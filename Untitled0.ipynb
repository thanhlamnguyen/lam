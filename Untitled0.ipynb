{
  "nbformat": 4,
  "nbformat_minor": 0,
  "metadata": {
    "colab": {
      "name": "Untitled0.ipynb",
      "provenance": [],
      "authorship_tag": "ABX9TyPjwMEeEU2WotlpZOhZ4ltd",
      "include_colab_link": true
    },
    "kernelspec": {
      "name": "python3",
      "display_name": "Python 3"
    }
  },
  "cells": [
    {
      "cell_type": "markdown",
      "metadata": {
        "id": "view-in-github",
        "colab_type": "text"
      },
      "source": [
        "<a href=\"https://colab.research.google.com/github/thanhlamnguyen/lam/blob/main/Untitled0.ipynb\" target=\"_parent\"><img src=\"https://colab.research.google.com/assets/colab-badge.svg\" alt=\"Open In Colab\"/></a>"
      ]
    },
    {
      "cell_type": "markdown",
      "metadata": {
        "id": "eGhrVfaV_Z8P"
      },
      "source": [
        "Bai 5.1 chuong 4"
      ]
    },
    {
      "cell_type": "code",
      "metadata": {
        "colab": {
          "base_uri": "https://localhost:8080/"
        },
        "id": "Z47Gs0CB_lLc",
        "outputId": "780606f9-d6bc-4421-df55-5f56a6a0ff90"
      },
      "source": [
        "a=[1,-3,22,55,-69,85,2]\n",
        "n=1\n",
        "import math\n",
        "for x in a:\n",
        "    print (\"giá trị của các phần tử\",n,'=',x)\n",
        "    n=n+1\n",
        "    if x>0 :\n",
        "        print ('Logarith của các phần tử thứ',n,'=',math.log(x))\n",
        "    else :\n",
        "        print ('Không có Logarith')"
      ],
      "execution_count": 1,
      "outputs": [
        {
          "output_type": "stream",
          "text": [
            "giá trị của các phần tử 1 = 1\n",
            "Logarith của các phần tử thứ 2 = 0.0\n",
            "giá trị của các phần tử 2 = -3\n",
            "Không có Logarith\n",
            "giá trị của các phần tử 3 = 22\n",
            "Logarith của các phần tử thứ 4 = 3.091042453358316\n",
            "giá trị của các phần tử 4 = 55\n",
            "Logarith của các phần tử thứ 5 = 4.007333185232471\n",
            "giá trị của các phần tử 5 = -69\n",
            "Không có Logarith\n",
            "giá trị của các phần tử 6 = 85\n",
            "Logarith của các phần tử thứ 7 = 4.442651256490317\n",
            "giá trị của các phần tử 7 = 2\n",
            "Logarith của các phần tử thứ 8 = 0.6931471805599453\n"
          ],
          "name": "stdout"
        }
      ]
    },
    {
      "cell_type": "markdown",
      "metadata": {
        "id": "D37iTUFa_nsE"
      },
      "source": [
        "Bai 5.2 chuong 4"
      ]
    },
    {
      "cell_type": "code",
      "metadata": {
        "colab": {
          "base_uri": "https://localhost:8080/"
        },
        "id": "e5jhFZda_rlW",
        "outputId": "62cd6777-0e8a-486e-d641-b4b2e2b908c8"
      },
      "source": [
        "import numpy as np\n",
        "n = int(input(\"Số các giá trị các phần tử =\"))\n",
        "rd = np.random.random_sample(size = n)*30000000-20000000\n",
        "n = 1\n",
        "print (\"Giá trị các phần tử =\",rd)\n",
        "import math\n",
        "for x in rd:\n",
        "    print (\"Giá trị các phần tử thứ \",n,\"=\",x)\n",
        "    n=n+1\n",
        "    if x > 0:\n",
        "         print (\"Logarith của các phần tử thứ\",n,\"=\",math.log(x))\n",
        "    else:\n",
        "        print (\"Không có logarith\")\n",
        "        "
      ],
      "execution_count": 3,
      "outputs": [
        {
          "output_type": "stream",
          "text": [
            "Số các giá trị các phần tử =3\n",
            "Giá trị các phần tử = [  7930009.80450755  -2148296.21251139 -10610113.35680357]\n",
            "Giá trị các phần tử thứ  1 = 7930009.80450755\n",
            "Logarith của các phần tử thứ 2 = 15.886164829992051\n",
            "Giá trị các phần tử thứ  2 = -2148296.212511394\n",
            "Không có logarith\n",
            "Giá trị các phần tử thứ  3 = -10610113.356803572\n",
            "Không có logarith\n"
          ],
          "name": "stdout"
        }
      ]
    }
  ]
}