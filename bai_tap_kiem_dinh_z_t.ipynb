{
  "nbformat": 4,
  "nbformat_minor": 0,
  "metadata": {
    "kernelspec": {
      "display_name": "Python 3",
      "language": "python",
      "name": "python3"
    },
    "language_info": {
      "codemirror_mode": {
        "name": "ipython",
        "version": 3
      },
      "file_extension": ".py",
      "mimetype": "text/x-python",
      "name": "python",
      "nbconvert_exporter": "python",
      "pygments_lexer": "ipython3",
      "version": "3.7.3"
    },
    "colab": {
      "name": "bai-tap-kiem-dinh-z-t.ipynb",
      "provenance": [],
      "include_colab_link": true
    }
  },
  "cells": [
    {
      "cell_type": "markdown",
      "metadata": {
        "id": "view-in-github",
        "colab_type": "text"
      },
      "source": [
        "<a href=\"https://colab.research.google.com/github/thanhlamnguyen/lam/blob/main/bai_tap_kiem_dinh_z_t.ipynb\" target=\"_parent\"><img src=\"https://colab.research.google.com/assets/colab-badge.svg\" alt=\"Open In Colab\"/></a>"
      ]
    },
    {
      "cell_type": "code",
      "metadata": {
        "id": "KqFp-t4qPGcv",
        "outputId": "bc8e2a1e-000e-424c-a43a-bc9f6fafd052",
        "colab": {
          "base_uri": "https://localhost:8080/"
        }
      },
      "source": [
        "import numpy as np\n",
        "import pandas as pd\n",
        "import random\n",
        "from scipy import stats\n",
        "from statsmodels.stats.weightstats import ztest\n",
        "import warnings\n",
        "import matplotlib.pyplot as plt\n",
        "import seaborn as sns\n",
        "%matplotlib inline"
      ],
      "execution_count": 1,
      "outputs": [
        {
          "output_type": "stream",
          "text": [
            "/usr/local/lib/python3.7/dist-packages/statsmodels/tools/_testing.py:19: FutureWarning: pandas.util.testing is deprecated. Use the functions in the public API at pandas.testing instead.\n",
            "  import pandas.util.testing as tm\n"
          ],
          "name": "stderr"
        }
      ]
    },
    {
      "cell_type": "markdown",
      "metadata": {
        "id": "99pturRRJn8w"
      },
      "source": [
        "XÂY DỰNG CHƯƠNG TRÌNH KIỂM ĐỊNH Z (HOẶC T) CHO CÁC BÀI TẬP SAU\n",
        "\n",
        "Gợi ý:\n",
        "\n",
        "- Số liệu được sinh ngẫu nhiên theo phân phối chuẩn\n",
        "- Sử dụng gói phần mềm statsmodels để tiến hành kiểm định\n",
        "- Đối với các bài tập kiểm định giả thuyết thì sinh viên cần phát biểu các giả thuyết (bằng tiếng Việt) $H_{0}$ và $H_{a}$ trước khi lập trình kiểm định"
      ]
    },
    {
      "cell_type": "code",
      "metadata": {
        "id": "FhZ_k0OnSt4G"
      },
      "source": [
        ""
      ],
      "execution_count": null,
      "outputs": []
    },
    {
      "cell_type": "markdown",
      "metadata": {
        "id": "_3B5OunDJn82"
      },
      "source": [
        "Bài 1: You’re a Q/C inspector for Gallo. The sample standard deviation for 2-liter bottles is .05 liters.  A random sample of 100 bottles showed sasmple mean = 1.99 liters.  What is the 90%  confidence interval estimate of the true mean amount in 2-liter bottles? "
      ]
    },
    {
      "cell_type": "code",
      "metadata": {
        "id": "Fh0l5o0LJn83",
        "outputId": "5ca4c633-1b37-456c-b3ec-6336a01e59eb",
        "colab": {
          "base_uri": "https://localhost:8080/"
        }
      },
      "source": [
        "mean = 1.99\n",
        "std = 0.05\n",
        "N = 100\n",
        "samples = np.random.normal(1.99, 0.05, 100)\n",
        "print(samples[:10])\n",
        "null_mean = 2\n",
        "alpha = 0.1\n",
        "\n",
        "ztest_Score, p_value= ztest(samples, value = null_mean, alternative='larger')\n",
        "if(p_value <  alpha):\n",
        "  print(\"Có bằng chứng để bác bỏ giả thuyết H0\")\n",
        "else:\n",
        "  print(\"Chưa có bằng chứng để bác bỏ giả thuyết H0\")"
      ],
      "execution_count": 5,
      "outputs": [
        {
          "output_type": "stream",
          "text": [
            "[1.91388027 2.05414306 2.05646841 1.95709211 1.93728827 2.04985579\n",
            " 2.03613111 1.92943922 2.07329008 2.05245706]\n",
            "Chưa có bằng chứng để bác bỏ giả thuyết H0\n"
          ],
          "name": "stdout"
        }
      ]
    },
    {
      "cell_type": "markdown",
      "metadata": {
        "id": "EYbZDXpcJn83"
      },
      "source": [
        "Bài 2: You’re a time study analyst in manufacturing.  You’ve recorded the following task times (min.): 3.6, 4.2, 4.0, 3.5, 3.8, 3.1. What is the 90% confidence interval estimate of the population mean task time? "
      ]
    },
    {
      "cell_type": "code",
      "metadata": {
        "id": "C3wu5Zh_Jn84",
        "outputId": "256e177b-7a58-4552-a619-31310dd93dc8",
        "colab": {
          "base_uri": "https://localhost:8080/"
        }
      },
      "source": [
        "samples = [3.6, 4.2, 4.0, 3.5, 3.8, 3.1]\n",
        "null_mean = 3.7 # = (3.6 +4.2+ 4.0+ 3.5+ 3.8+ 3.1)/6\n",
        "alpha = 0.1\n",
        "\n",
        "ztest_Score, p_value= ztest(samples, value = null_mean, alternative='larger')\n",
        "if(p_value <  alpha):\n",
        "  print(\"Có bằng chứng để bác bỏ giả thuyết H0\")\n",
        "else:\n",
        "  print(\"Chưa có bằng chứng để bác bỏ giả thuyết H0\")\n",
        "\n"
      ],
      "execution_count": 6,
      "outputs": [
        {
          "output_type": "stream",
          "text": [
            "Chưa có bằng chứng để bác bỏ giả thuyết H0\n"
          ],
          "name": "stdout"
        }
      ]
    },
    {
      "cell_type": "markdown",
      "metadata": {
        "id": "rflUHmUMJn84"
      },
      "source": [
        "Bài 3: Does an average box of cereal contain 368 grams of cereal?  A random sample of 25 boxes had $\\overline{\\rm x}$ = 372.5.  The company has specified $\\sigma$ to be 25 grams.  Test at the .05 level of significance."
      ]
    },
    {
      "cell_type": "code",
      "metadata": {
        "id": "pzbXSs6KJn85",
        "outputId": "77820fbb-a9fd-4229-977d-e1bc17e7ad6f",
        "colab": {
          "base_uri": "https://localhost:8080/"
        }
      },
      "source": [
        ""
      ],
      "execution_count": 7,
      "outputs": [
        {
          "output_type": "stream",
          "text": [
            "[344.99885665 391.01743264 396.14944866 310.34188962 372.24995371\n",
            " 388.42112903 348.6946612  361.67261851 400.36457879 346.09545722]\n",
            "Chưa có bằng chứng để bác bỏ giả thuyết H0\n"
          ],
          "name": "stdout"
        }
      ]
    },
    {
      "cell_type": "markdown",
      "metadata": {
        "id": "t6H8IkMFJn85"
      },
      "source": [
        "Bài 4: You’re a Q/C inspector.  You want to find out if a new machine is making electrical cords to customer specification: average breaking strength of 70 lb. with $\\sigma$ = 3.5 lb.  You take a sample of 36 cords & compute a sample mean of 69.7 lb.  At the .05 level of significance, is there evidence that the machine is not meeting the average breaking strength?"
      ]
    },
    {
      "cell_type": "code",
      "metadata": {
        "id": "kPQ2BSOGJn86",
        "outputId": "cee38ae4-bd26-40fb-bd1e-11ea03885a24",
        "colab": {
          "base_uri": "https://localhost:8080/"
        }
      },
      "source": [
        "mean = 69.7\n",
        "std = 3.5\n",
        "N = 36\n",
        "samples = np.random.normal(69.7, 3.5, 36)\n",
        "print(samples[:10])\n",
        "null_mean = 70\n",
        "alpha = 0.05\n",
        "\n",
        "ztest_Score, p_value= ztest(samples, value = null_mean, alternative='larger')\n",
        "if(p_value <  alpha):\n",
        "  print(\"Có bằng chứng để bác bỏ giả thuyết H0\")\n",
        "else:\n",
        "  print(\"Chưa có bằng chứng để bác bỏ giả thuyết H0\")\n"
      ],
      "execution_count": 16,
      "outputs": [
        {
          "output_type": "stream",
          "text": [
            "[71.43648026 65.68207657 72.63662115 70.83034946 70.45077379 62.7347964\n",
            " 70.60601358 65.11798837 69.90152535 74.84661487]\n",
            "Chưa có bằng chứng để bác bỏ giả thuyết H0\n"
          ],
          "name": "stdout"
        }
      ]
    },
    {
      "cell_type": "markdown",
      "metadata": {
        "id": "bxdhT6IbJn86"
      },
      "source": [
        "Bài 5: Does an average box of cereal contain more than 368 grams of cereal?  A random sample of 25 boxes showed $\\overline{\\rm x}$ =  372.5.  The company has specified $\\sigma$ to be 25 grams.  Test at the .05 level of significance."
      ]
    },
    {
      "cell_type": "code",
      "metadata": {
        "id": "mNiexBijJn86",
        "outputId": "666492e2-4343-418d-b555-ad5012a4bf97",
        "colab": {
          "base_uri": "https://localhost:8080/"
        }
      },
      "source": [
        "\n",
        "\n"
      ],
      "execution_count": 9,
      "outputs": [
        {
          "output_type": "stream",
          "text": [
            "[343.67951336 357.18526252 363.80866815 400.19190149 329.99562608\n",
            " 339.31581817 404.61586585 382.5411627  370.66592585 372.76304247]\n",
            "Chưa có bằng chứng để bác bỏ giả thuyết H0\n"
          ],
          "name": "stdout"
        }
      ]
    },
    {
      "cell_type": "markdown",
      "metadata": {
        "id": "dl9yVyT4Jn87"
      },
      "source": [
        "Bài 6: You’re an analyst for Ford.  You want to find out if the average miles per gallon of Escorts is at least 32 mpg. Similar models have a standard deviation of 3.8 mpg. You take a sample of 60 Escorts & compute a sample mean of 30.7 mpg. At the .01 level of significance, is there evidence that the miles per gallon is less than 32?"
      ]
    },
    {
      "cell_type": "code",
      "metadata": {
        "id": "U5-WZNBSJn87",
        "outputId": "b90e4230-ce86-4328-b1e6-46f30b2d98c0",
        "colab": {
          "base_uri": "https://localhost:8080/"
        }
      },
      "source": [
        "mean = 30.7\n",
        "std = 3.8\n",
        "N = 60\n",
        "samples = np.random.normal(30.7, 3.8, 60)\n",
        "print(samples[:10])\n",
        "null_mean = 32\n",
        "alpha = 0.01\n",
        "\n",
        "ztest_Score, p_value= ztest(samples, value = null_mean, alternative='larger')\n",
        "if(p_value <  alpha):\n",
        "  print(\"Có bằng chứng để bác bỏ giả thuyết H0\")\n",
        "else:\n",
        "  print(\"Chưa có bằng chứng để bác bỏ giả thuyết H0\")\n",
        "\n"
      ],
      "execution_count": 14,
      "outputs": [
        {
          "output_type": "stream",
          "text": [
            "[30.17373059 27.06756126 31.31371609 31.92007898 32.57274001 24.94519249\n",
            " 32.44165445 25.34785649 26.05753164 30.70889161]\n",
            "Chưa có bằng chứng để bác bỏ giả thuyết H0\n",
            "0.9999999828433509\n"
          ],
          "name": "stdout"
        }
      ]
    },
    {
      "cell_type": "markdown",
      "metadata": {
        "id": "2yRq_o-6Jn87"
      },
      "source": [
        "Bài 7: Does an average box of cereal contain 368 grams of cereal?  A random sample of 25 boxes showed $\\overline{\\rm x}$ = 372.5.  The company has specified $\\sigma$ to be 15 grams.  Find the p-Value."
      ]
    },
    {
      "cell_type": "code",
      "metadata": {
        "id": "PHkdMa_FJn87",
        "outputId": "a2f6a05a-83e5-4c76-ea20-0ca92e72c432",
        "colab": {
          "base_uri": "https://localhost:8080/",
          "height": 265
        }
      },
      "source": [
        ""
      ],
      "execution_count": 13,
      "outputs": [
        {
          "output_type": "stream",
          "text": [
            "[367.74440944 367.91920388 354.23441341 373.43279336 365.17601422\n",
            " 356.00901308 356.73083495 392.23195384 359.65851493 374.51443613]\n"
          ],
          "name": "stdout"
        },
        {
          "output_type": "error",
          "ename": "NameError",
          "evalue": "ignored",
          "traceback": [
            "\u001b[0;31m---------------------------------------------------------------------------\u001b[0m",
            "\u001b[0;31mNameError\u001b[0m                                 Traceback (most recent call last)",
            "\u001b[0;32m<ipython-input-13-fb13db420146>\u001b[0m in \u001b[0;36m<module>\u001b[0;34m()\u001b[0m\n\u001b[1;32m      7\u001b[0m \u001b[0;34m\u001b[0m\u001b[0m\n\u001b[1;32m      8\u001b[0m \u001b[0mztest_Score\u001b[0m\u001b[0;34m,\u001b[0m \u001b[0mp_value\u001b[0m\u001b[0;34m=\u001b[0m \u001b[0mztest\u001b[0m\u001b[0;34m(\u001b[0m\u001b[0msamples\u001b[0m\u001b[0;34m,\u001b[0m \u001b[0mvalue\u001b[0m \u001b[0;34m=\u001b[0m \u001b[0mnull_mean\u001b[0m\u001b[0;34m,\u001b[0m \u001b[0malternative\u001b[0m\u001b[0;34m=\u001b[0m\u001b[0;34m'larger'\u001b[0m\u001b[0;34m)\u001b[0m\u001b[0;34m\u001b[0m\u001b[0;34m\u001b[0m\u001b[0m\n\u001b[0;32m----> 9\u001b[0;31m \u001b[0mprint\u001b[0m\u001b[0;34m(\u001b[0m\u001b[0;34m'z = '\u001b[0m\u001b[0;34m,\u001b[0m \u001b[0mztest_score\u001b[0m\u001b[0;34m,\u001b[0m \u001b[0;34m'; p = '\u001b[0m\u001b[0;34m,\u001b[0m \u001b[0mp_value\u001b[0m\u001b[0;34m)\u001b[0m\u001b[0;34m\u001b[0m\u001b[0;34m\u001b[0m\u001b[0m\n\u001b[0m\u001b[1;32m     10\u001b[0m \u001b[0;32mif\u001b[0m\u001b[0;34m(\u001b[0m\u001b[0mp_value\u001b[0m \u001b[0;34m<\u001b[0m  \u001b[0malpha\u001b[0m\u001b[0;34m)\u001b[0m\u001b[0;34m:\u001b[0m\u001b[0;34m\u001b[0m\u001b[0;34m\u001b[0m\u001b[0m\n\u001b[1;32m     11\u001b[0m   \u001b[0mprint\u001b[0m\u001b[0;34m(\u001b[0m\u001b[0;34m\"Có bằng chứng để bác bỏ giả thuyết H0\"\u001b[0m\u001b[0;34m)\u001b[0m\u001b[0;34m\u001b[0m\u001b[0;34m\u001b[0m\u001b[0m\n",
            "\u001b[0;31mNameError\u001b[0m: name 'ztest_score' is not defined"
          ]
        }
      ]
    },
    {
      "cell_type": "markdown",
      "metadata": {
        "id": "I9fx9fSLJn87"
      },
      "source": [
        "Bài 8: Does an average box of cereal contain more than 368 grams of cereal?  A random sample of 25 boxes showed $\\overline{\\rm x}$ = 372.5.  The company has specified $\\sigma$ to be 15 grams.  Find the p-Value."
      ]
    },
    {
      "cell_type": "code",
      "metadata": {
        "id": "fCxLvhBFJn88"
      },
      "source": [
        "#Code here"
      ],
      "execution_count": null,
      "outputs": []
    },
    {
      "cell_type": "markdown",
      "metadata": {
        "id": "-teHueKNJn88"
      },
      "source": [
        "Bài 9: You’re an analyst for Ford.  You want to find out if the average miles per gallon of Escorts is less than 32 mpg.   Similar models have a standard deviation of 3.8 mpg.  You take a sample of 60 Escorts & compute a sample mean of 30.7 mpg.  What is the value of the observed level of significance (p-Value)?"
      ]
    },
    {
      "cell_type": "code",
      "metadata": {
        "id": "6N8ekLqaJn88",
        "outputId": "6e5c08f1-0f3e-431b-c82e-733f77774416",
        "colab": {
          "base_uri": "https://localhost:8080/"
        }
      },
      "source": [
        "mean = 30.7\n",
        "std = 3.8\n",
        "N = 60\n",
        "samples = np.random.normal(30.7, 3.8, 60)\n",
        "print(samples[:10])\n",
        "null_mean = 32\n",
        "\n",
        "ztest_Score, p_value= ztest(samples, value = null_mean, alternative='larger')\n",
        "print(p_value)\n"
      ],
      "execution_count": 18,
      "outputs": [
        {
          "output_type": "stream",
          "text": [
            "[33.53684409 36.41077341 34.46402016 28.60030636 28.40529042 32.15558302\n",
            " 33.79599274 35.60184643 29.89262089 33.65386935]\n",
            "0.9103951438547074\n"
          ],
          "name": "stdout"
        }
      ]
    },
    {
      "cell_type": "markdown",
      "metadata": {
        "id": "q2rlEkDJJn88"
      },
      "source": [
        "Bài 10: Does an average box of cereal contain 368 grams of cereal?  A random sample of 36 boxes had a mean of 372.5 and a standard deviation of 12 grams. Test at the .05 level of significance."
      ]
    },
    {
      "cell_type": "code",
      "metadata": {
        "id": "ak8T5TriJn89",
        "outputId": "63d5a0cd-8774-43ff-c4db-5d7649897c1e",
        "colab": {
          "base_uri": "https://localhost:8080/"
        }
      },
      "source": [
        "mean = 372.5\n",
        "std = 12\n",
        "N = 36\n",
        "samples = np.random.normal(372.5, 12, 36)\n",
        "print(samples[:10])\n",
        "null_mean = 368\n",
        "alpha = 0.05\n",
        "\n",
        "ztest_Score, p_value= ztest(samples, value = null_mean, alternative='larger')\n",
        "if(p_value <  alpha):\n",
        "  print(\"Có bằng chứng để bác bỏ giả thuyết H0\")\n",
        "else:\n",
        "  print(\"Chưa có bằng chứng để bác bỏ giả thuyết H0\")\n",
        "\n",
        "\n",
        "\n"
      ],
      "execution_count": 19,
      "outputs": [
        {
          "output_type": "stream",
          "text": [
            "[363.93902493 391.35679123 350.48741461 388.1803771  377.21482961\n",
            " 374.79296049 371.47182473 366.42006454 368.16953525 370.01487729]\n",
            "Có bằng chứng để bác bỏ giả thuyết H0\n"
          ],
          "name": "stdout"
        }
      ]
    },
    {
      "cell_type": "markdown",
      "metadata": {
        "id": "AqIayy5PJn89"
      },
      "source": [
        "Bài 11: You work for the FTC.  A manufacturer of detergent claims that the mean weight of detergent is 3.25 lb.  You take a random sample of 64 containers.  You calculate the sample average to be 3.238 lb. with a standard deviation of .117 lb.  At the .01 level of significance, is the manufacturer correct?"
      ]
    },
    {
      "cell_type": "code",
      "metadata": {
        "id": "QvJlErsRJn89",
        "outputId": "a5a1697a-988e-414c-bf0d-ed2f1bb68609",
        "colab": {
          "base_uri": "https://localhost:8080/"
        }
      },
      "source": [
        "mean = 3.238\n",
        "std = 0.117\n",
        "N = 64\n",
        "samples = np.random.normal(3.238, 0.117, 64)\n",
        "print(samples[:10])\n",
        "null_mean = 3.25\n",
        "alpha = 0.01\n",
        "\n",
        "ztest_Score, p_value= ztest(samples, value = null_mean, alternative='larger')\n",
        "if(p_value <  alpha):\n",
        "  print(\"Có bằng chứng để bác bỏ giả thuyết H0\")\n",
        "else:\n",
        "  print(\"Chưa có bằng chứng để bác bỏ giả thuyết H0\")\n"
      ],
      "execution_count": 20,
      "outputs": [
        {
          "output_type": "stream",
          "text": [
            "[3.12780824 2.96994041 3.29344393 3.01258323 3.29763601 2.88269883\n",
            " 3.3075247  3.18043654 3.29169481 3.2341042 ]\n",
            "Chưa có bằng chứng để bác bỏ giả thuyết H0\n"
          ],
          "name": "stdout"
        }
      ]
    },
    {
      "cell_type": "markdown",
      "metadata": {
        "id": "6o4JBfGFJn89"
      },
      "source": [
        "Bài 12: Is the average capacity of batteries less than 140 ampere-hours?  A random sample of 20 batteries had a mean of 138.47 and a standard deviation of 2.66.  Assume a normal distribution. Test at the .05 level of significance."
      ]
    },
    {
      "cell_type": "code",
      "metadata": {
        "id": "oXd-Gs43Jn89"
      },
      "source": [
        "#Code here"
      ],
      "execution_count": null,
      "outputs": []
    },
    {
      "cell_type": "markdown",
      "metadata": {
        "id": "5mgjl8j4Jn8-"
      },
      "source": [
        "Bài 13: You’re a marketing analyst for Wal-Mart.  Wal-Mart had teddy bears on sale last week.  The weekly sales of bears sold in 10 stores was: 8  11  0   4   7   8   10   5   8   3. At the .05 level of significance, is there evidence that the average bear sales per store is more than 5?"
      ]
    },
    {
      "cell_type": "code",
      "metadata": {
        "id": "iGX6_KjZJn8-"
      },
      "source": [
        "#Code here"
      ],
      "execution_count": null,
      "outputs": []
    },
    {
      "cell_type": "code",
      "metadata": {
        "id": "HRweuLk0Jn8-"
      },
      "source": [
        ""
      ],
      "execution_count": null,
      "outputs": []
    }
  ]
}