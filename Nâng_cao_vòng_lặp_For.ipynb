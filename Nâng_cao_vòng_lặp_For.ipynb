{
  "nbformat": 4,
  "nbformat_minor": 0,
  "metadata": {
    "colab": {
      "name": "Nâng cao vòng lặp For.ipynb",
      "provenance": [],
      "authorship_tag": "ABX9TyNUulEzpWUERkLj0oqF5poq",
      "include_colab_link": true
    },
    "kernelspec": {
      "name": "python3",
      "display_name": "Python 3"
    }
  },
  "cells": [
    {
      "cell_type": "markdown",
      "metadata": {
        "id": "view-in-github",
        "colab_type": "text"
      },
      "source": [
        "<a href=\"https://colab.research.google.com/github/thanhlamnguyen/lam/blob/main/N%C3%A2ng_cao_v%C3%B2ng_l%E1%BA%B7p_For.ipynb\" target=\"_parent\"><img src=\"https://colab.research.google.com/assets/colab-badge.svg\" alt=\"Open In Colab\"/></a>"
      ]
    },
    {
      "cell_type": "code",
      "metadata": {
        "colab": {
          "base_uri": "https://localhost:8080/"
        },
        "id": "tbYUGpDg3woi",
        "outputId": "6b9ff8a5-2031-4691-b1f7-79e595663324"
      },
      "source": [
        "list2 = [({'name': 'Peter', 'age':2}, {'name': 'John', 'age':21}), \n",
        "         ({'name': 'Mary', 'age':2}, {'name': 'Trandanpro', 'age':21}), \n",
        "         ({'name': 'Nam', 'age':2}, {'name': 'Hung', 'age':21}), \n",
        "         ({'name': 'Mai', 'age':2}, {'name': 'Loan', 'age':21})]\n",
        "for a in list2:\n",
        "   #print(a)\n",
        "    for x in a:\n",
        "        print (x)\n",
        "        for index, j in enumerate(x):\n",
        "            print (j,\":\", x[j])\n",
        "           "
      ],
      "execution_count": 5,
      "outputs": [
        {
          "output_type": "stream",
          "text": [
            "{'name': 'Peter', 'age': 2}\n",
            "name : Peter\n",
            "age : 2\n",
            "{'name': 'John', 'age': 21}\n",
            "name : John\n",
            "age : 21\n",
            "{'name': 'Mary', 'age': 2}\n",
            "name : Mary\n",
            "age : 2\n",
            "{'name': 'Trandanpro', 'age': 21}\n",
            "name : Trandanpro\n",
            "age : 21\n",
            "{'name': 'Nam', 'age': 2}\n",
            "name : Nam\n",
            "age : 2\n",
            "{'name': 'Hung', 'age': 21}\n",
            "name : Hung\n",
            "age : 21\n",
            "{'name': 'Mai', 'age': 2}\n",
            "name : Mai\n",
            "age : 2\n",
            "{'name': 'Loan', 'age': 21}\n",
            "name : Loan\n",
            "age : 21\n"
          ],
          "name": "stdout"
        }
      ]
    }
  ]
}