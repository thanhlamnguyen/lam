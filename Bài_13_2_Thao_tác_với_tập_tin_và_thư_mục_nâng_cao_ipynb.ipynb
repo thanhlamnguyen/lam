{
  "nbformat": 4,
  "nbformat_minor": 0,
  "metadata": {
    "kernelspec": {
      "display_name": "Python 3",
      "language": "python",
      "name": "python3"
    },
    "language_info": {
      "codemirror_mode": {
        "name": "ipython",
        "version": 3
      },
      "file_extension": ".py",
      "mimetype": "text/x-python",
      "name": "python",
      "nbconvert_exporter": "python",
      "pygments_lexer": "ipython3",
      "version": "3.8.3"
    },
    "colab": {
      "name": "Bài 13-2: Thao tác với tập tin và thư mục nâng cao ipynb",
      "provenance": [],
      "include_colab_link": true
    }
  },
  "cells": [
    {
      "cell_type": "markdown",
      "metadata": {
        "id": "view-in-github",
        "colab_type": "text"
      },
      "source": [
        "<a href=\"https://colab.research.google.com/github/thanhlamnguyen/lam/blob/main/B%C3%A0i_13_2_Thao_t%C3%A1c_v%E1%BB%9Bi_t%E1%BA%ADp_tin_v%C3%A0_th%C6%B0_m%E1%BB%A5c_n%C3%A2ng_cao_ipynb.ipynb\" target=\"_parent\"><img src=\"https://colab.research.google.com/assets/colab-badge.svg\" alt=\"Open In Colab\"/></a>"
      ]
    },
    {
      "cell_type": "markdown",
      "metadata": {
        "id": "74qgQ1Ol4bXZ"
      },
      "source": [
        "# 13.2.1: Nhập tên thư mục từ bàn phím và tạo thư mục."
      ]
    },
    {
      "cell_type": "code",
      "metadata": {
        "id": "GLvrqbPA4bXZ",
        "outputId": "fcd8213d-2fa7-419a-9f89-be71b5860d0b"
      },
      "source": [
        "import os\n",
        "path = 'E:\\\\'\n",
        "os.chdir(path)\n",
        "print(os.listdir(path))\n",
        "os.mkdir('Love Yahh')\n",
        "print(os.listdir(path))"
      ],
      "execution_count": null,
      "outputs": [
        {
          "output_type": "stream",
          "text": [
            "['$RECYCLE.BIN', 'Basketball', 'Chicken', 'chickenlam.txt', 'System Volume Information']\n",
            "['$RECYCLE.BIN', 'Basketball', 'Chicken', 'chickenlam.txt', 'Love Yahh', 'System Volume Information']\n"
          ],
          "name": "stdout"
        }
      ]
    },
    {
      "cell_type": "markdown",
      "metadata": {
        "id": "RnsydY_w4bXc"
      },
      "source": [
        "# 13.2.2: Nhập tên tập tin từ bàn phím và tạo tập tin vào thư mục mới tạo ở trên:"
      ]
    },
    {
      "cell_type": "code",
      "metadata": {
        "id": "QgJhocmy4bXc",
        "outputId": "28c6d9ad-2d57-4ad5-fd5d-00e05b4efd9b"
      },
      "source": [
        "import os\n",
        "a = open(\"chickenlam.txt\",\"x\")\n",
        "a.close()\n",
        "print(\"Mong tôi thoát khoải kiếp nạn\")\n",
        "print(os.getcwd())"
      ],
      "execution_count": null,
      "outputs": [
        {
          "output_type": "stream",
          "text": [
            "Mong tôi thoát khoải kiếp nạn\n",
            "E:\\\n"
          ],
          "name": "stdout"
        }
      ]
    },
    {
      "cell_type": "markdown",
      "metadata": {
        "id": "epVPyDv04bXc"
      },
      "source": [
        "# 13.2.3: Chuyển tệp tin mới tạo vào trong thư mục trên:"
      ]
    },
    {
      "cell_type": "code",
      "metadata": {
        "id": "iSgxktk24bXc",
        "outputId": "6ba824c0-d055-4035-a57e-b0352946be9f"
      },
      "source": [
        "import os\n",
        "import shutil\n",
        "shutil.move(\"E:/chickenlam.txt\",\"E:/Love Yahh\")"
      ],
      "execution_count": null,
      "outputs": [
        {
          "output_type": "execute_result",
          "data": {
            "text/plain": [
              "'E:/Love Yahh\\\\chickenlam.txt'"
            ]
          },
          "metadata": {
            "tags": []
          },
          "execution_count": 5
        }
      ]
    },
    {
      "cell_type": "code",
      "metadata": {
        "id": "vXsUN6mm4bXd"
      },
      "source": [
        ""
      ],
      "execution_count": null,
      "outputs": []
    }
  ]
}