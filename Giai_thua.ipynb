{
  "nbformat": 4,
  "nbformat_minor": 0,
  "metadata": {
    "colab": {
      "name": "Giai_thua.ipynb",
      "provenance": [],
      "authorship_tag": "ABX9TyN6EHNXGB8iSaC8+SW/jaP9",
      "include_colab_link": true
    },
    "kernelspec": {
      "name": "python3",
      "display_name": "Python 3"
    },
    "language_info": {
      "name": "python"
    }
  },
  "cells": [
    {
      "cell_type": "markdown",
      "metadata": {
        "id": "view-in-github",
        "colab_type": "text"
      },
      "source": [
        "<a href=\"https://colab.research.google.com/github/thanhlamnguyen/lam/blob/main/Giai_thua.ipynb\" target=\"_parent\"><img src=\"https://colab.research.google.com/assets/colab-badge.svg\" alt=\"Open In Colab\"/></a>"
      ]
    },
    {
      "cell_type": "code",
      "metadata": {
        "colab": {
          "base_uri": "https://localhost:8080/"
        },
        "id": "u9k-fYx4UKDD",
        "outputId": "41d2cfed-cdd7-49cf-e7d3-6a43ec9b44a5"
      },
      "source": [
        "def n_giai_thua(n):\n",
        "    s = 1;\n",
        "    if (n == 0 or n == 1):\n",
        "        return s;\n",
        "    else:\n",
        "        for i in range(2,n+1,1):\n",
        "            s = s * i;\n",
        "        return s;\n",
        " \n",
        "n = int(input(\"Nhập số nguyên dương n = \"));\n",
        "print( n,\"! = \",n_giai_thua(n));\n"
      ],
      "execution_count": 1,
      "outputs": [
        {
          "output_type": "stream",
          "text": [
            "Nhập số nguyên dương n = 2\n",
            "2 ! =  2\n"
          ],
          "name": "stdout"
        }
      ]
    }
  ]
}