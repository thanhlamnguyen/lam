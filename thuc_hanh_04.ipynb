{
  "nbformat": 4,
  "nbformat_minor": 0,
  "metadata": {
    "kernelspec": {
      "display_name": "Python 3",
      "language": "python",
      "name": "python3"
    },
    "language_info": {
      "codemirror_mode": {
        "name": "ipython",
        "version": 3
      },
      "file_extension": ".py",
      "mimetype": "text/x-python",
      "name": "python",
      "nbconvert_exporter": "python",
      "pygments_lexer": "ipython3",
      "version": "3.7.3"
    },
    "colab": {
      "name": "thuc-hanh-04.ipynb",
      "provenance": [],
      "include_colab_link": true
    }
  },
  "cells": [
    {
      "cell_type": "markdown",
      "metadata": {
        "id": "view-in-github",
        "colab_type": "text"
      },
      "source": [
        "<a href=\"https://colab.research.google.com/github/thanhlamnguyen/lam/blob/main/thuc_hanh_04.ipynb\" target=\"_parent\"><img src=\"https://colab.research.google.com/assets/colab-badge.svg\" alt=\"Open In Colab\"/></a>"
      ]
    },
    {
      "cell_type": "markdown",
      "metadata": {
        "id": "FBHFdbFr7dXr"
      },
      "source": [
        "THỰC HÀNH LAMBDA - APPLY\n",
        "\n",
        "1. Sử dụng bộ dữ liệu baseball.csv"
      ]
    },
    {
      "cell_type": "code",
      "metadata": {
        "id": "jBT3rtnu8qj2"
      },
      "source": [
        "import pandas as pd\n",
        "import csv\n",
        "import numpy as np\n",
        "import math\n"
      ],
      "execution_count": 21,
      "outputs": []
    },
    {
      "cell_type": "code",
      "metadata": {
        "id": "lPG1C-eA7dXv",
        "outputId": "0d37f50c-cb88-432e-b5d9-095cbc043ac7",
        "colab": {
          "base_uri": "https://localhost:8080/",
          "height": 204
        }
      },
      "source": [
        "df = pd.read_csv('baseball.csv')\n",
        "df\n",
        "df.head()\n",
        "\n"
      ],
      "execution_count": 31,
      "outputs": [
        {
          "output_type": "execute_result",
          "data": {
            "text/html": [
              "<div>\n",
              "<style scoped>\n",
              "    .dataframe tbody tr th:only-of-type {\n",
              "        vertical-align: middle;\n",
              "    }\n",
              "\n",
              "    .dataframe tbody tr th {\n",
              "        vertical-align: top;\n",
              "    }\n",
              "\n",
              "    .dataframe thead th {\n",
              "        text-align: right;\n",
              "    }\n",
              "</style>\n",
              "<table border=\"1\" class=\"dataframe\">\n",
              "  <thead>\n",
              "    <tr style=\"text-align: right;\">\n",
              "      <th></th>\n",
              "      <th>id</th>\n",
              "      <th>player</th>\n",
              "      <th>year</th>\n",
              "      <th>stint</th>\n",
              "      <th>team</th>\n",
              "      <th>lg</th>\n",
              "      <th>g</th>\n",
              "      <th>ab</th>\n",
              "      <th>r</th>\n",
              "      <th>h</th>\n",
              "      <th>X2b</th>\n",
              "      <th>X3b</th>\n",
              "      <th>hr</th>\n",
              "      <th>rbi</th>\n",
              "      <th>sb</th>\n",
              "      <th>cs</th>\n",
              "      <th>bb</th>\n",
              "      <th>so</th>\n",
              "      <th>ibb</th>\n",
              "      <th>hbp</th>\n",
              "      <th>sh</th>\n",
              "      <th>sf</th>\n",
              "      <th>gidp</th>\n",
              "    </tr>\n",
              "  </thead>\n",
              "  <tbody>\n",
              "    <tr>\n",
              "      <th>0</th>\n",
              "      <td>88641</td>\n",
              "      <td>womacto01</td>\n",
              "      <td>2006</td>\n",
              "      <td>2</td>\n",
              "      <td>CHN</td>\n",
              "      <td>NL</td>\n",
              "      <td>19</td>\n",
              "      <td>50</td>\n",
              "      <td>6</td>\n",
              "      <td>14</td>\n",
              "      <td>1</td>\n",
              "      <td>0</td>\n",
              "      <td>1</td>\n",
              "      <td>2.0</td>\n",
              "      <td>1.0</td>\n",
              "      <td>1.0</td>\n",
              "      <td>4</td>\n",
              "      <td>4.0</td>\n",
              "      <td>0.0</td>\n",
              "      <td>0.0</td>\n",
              "      <td>3.0</td>\n",
              "      <td>0.0</td>\n",
              "      <td>0.0</td>\n",
              "    </tr>\n",
              "    <tr>\n",
              "      <th>1</th>\n",
              "      <td>88643</td>\n",
              "      <td>schilcu01</td>\n",
              "      <td>2006</td>\n",
              "      <td>1</td>\n",
              "      <td>BOS</td>\n",
              "      <td>AL</td>\n",
              "      <td>31</td>\n",
              "      <td>2</td>\n",
              "      <td>0</td>\n",
              "      <td>1</td>\n",
              "      <td>0</td>\n",
              "      <td>0</td>\n",
              "      <td>0</td>\n",
              "      <td>0.0</td>\n",
              "      <td>0.0</td>\n",
              "      <td>0.0</td>\n",
              "      <td>0</td>\n",
              "      <td>1.0</td>\n",
              "      <td>0.0</td>\n",
              "      <td>0.0</td>\n",
              "      <td>0.0</td>\n",
              "      <td>0.0</td>\n",
              "      <td>0.0</td>\n",
              "    </tr>\n",
              "    <tr>\n",
              "      <th>2</th>\n",
              "      <td>88645</td>\n",
              "      <td>myersmi01</td>\n",
              "      <td>2006</td>\n",
              "      <td>1</td>\n",
              "      <td>NYA</td>\n",
              "      <td>AL</td>\n",
              "      <td>62</td>\n",
              "      <td>0</td>\n",
              "      <td>0</td>\n",
              "      <td>0</td>\n",
              "      <td>0</td>\n",
              "      <td>0</td>\n",
              "      <td>0</td>\n",
              "      <td>0.0</td>\n",
              "      <td>0.0</td>\n",
              "      <td>0.0</td>\n",
              "      <td>0</td>\n",
              "      <td>0.0</td>\n",
              "      <td>0.0</td>\n",
              "      <td>0.0</td>\n",
              "      <td>0.0</td>\n",
              "      <td>0.0</td>\n",
              "      <td>0.0</td>\n",
              "    </tr>\n",
              "    <tr>\n",
              "      <th>3</th>\n",
              "      <td>88649</td>\n",
              "      <td>helliri01</td>\n",
              "      <td>2006</td>\n",
              "      <td>1</td>\n",
              "      <td>MIL</td>\n",
              "      <td>NL</td>\n",
              "      <td>20</td>\n",
              "      <td>3</td>\n",
              "      <td>0</td>\n",
              "      <td>0</td>\n",
              "      <td>0</td>\n",
              "      <td>0</td>\n",
              "      <td>0</td>\n",
              "      <td>0.0</td>\n",
              "      <td>0.0</td>\n",
              "      <td>0.0</td>\n",
              "      <td>0</td>\n",
              "      <td>2.0</td>\n",
              "      <td>0.0</td>\n",
              "      <td>0.0</td>\n",
              "      <td>0.0</td>\n",
              "      <td>0.0</td>\n",
              "      <td>0.0</td>\n",
              "    </tr>\n",
              "    <tr>\n",
              "      <th>4</th>\n",
              "      <td>88650</td>\n",
              "      <td>johnsra05</td>\n",
              "      <td>2006</td>\n",
              "      <td>1</td>\n",
              "      <td>NYA</td>\n",
              "      <td>AL</td>\n",
              "      <td>33</td>\n",
              "      <td>6</td>\n",
              "      <td>0</td>\n",
              "      <td>1</td>\n",
              "      <td>0</td>\n",
              "      <td>0</td>\n",
              "      <td>0</td>\n",
              "      <td>0.0</td>\n",
              "      <td>0.0</td>\n",
              "      <td>0.0</td>\n",
              "      <td>0</td>\n",
              "      <td>4.0</td>\n",
              "      <td>0.0</td>\n",
              "      <td>0.0</td>\n",
              "      <td>0.0</td>\n",
              "      <td>0.0</td>\n",
              "      <td>0.0</td>\n",
              "    </tr>\n",
              "  </tbody>\n",
              "</table>\n",
              "</div>"
            ],
            "text/plain": [
              "      id     player  year  stint team  lg  ...   so  ibb  hbp   sh   sf  gidp\n",
              "0  88641  womacto01  2006      2  CHN  NL  ...  4.0  0.0  0.0  3.0  0.0   0.0\n",
              "1  88643  schilcu01  2006      1  BOS  AL  ...  1.0  0.0  0.0  0.0  0.0   0.0\n",
              "2  88645  myersmi01  2006      1  NYA  AL  ...  0.0  0.0  0.0  0.0  0.0   0.0\n",
              "3  88649  helliri01  2006      1  MIL  NL  ...  2.0  0.0  0.0  0.0  0.0   0.0\n",
              "4  88650  johnsra05  2006      1  NYA  AL  ...  4.0  0.0  0.0  0.0  0.0   0.0\n",
              "\n",
              "[5 rows x 23 columns]"
            ]
          },
          "metadata": {
            "tags": []
          },
          "execution_count": 31
        }
      ]
    },
    {
      "cell_type": "markdown",
      "metadata": {
        "id": "C4gjewyM7dXw"
      },
      "source": [
        "2. Hãy xây dựng hàm lambda theo công thức sau: $\\frac{x + log(x)}{\\sqrt(x)}$"
      ]
    },
    {
      "cell_type": "code",
      "metadata": {
        "id": "qWqd2q6e7dXw",
        "outputId": "e7f9eae6-915d-49c9-99aa-b3c8bc8b4b0a",
        "colab": {
          "base_uri": "https://localhost:8080/"
        }
      },
      "source": [
        "remainder = lambda x: (x + np.log(x))/np.sqrt(x)\n",
        "\n",
        "print(remainder(5))"
      ],
      "execution_count": 32,
      "outputs": [
        {
          "output_type": "stream",
          "text": [
            "2.9558304930533903\n"
          ],
          "name": "stdout"
        }
      ]
    },
    {
      "cell_type": "markdown",
      "metadata": {
        "id": "xhPZocrp7dXw"
      },
      "source": [
        "3. Hãy thực thi hàm apply với lambda ở trên theo chiều ngang và chiều dọc đối với 1 Series do bạn chọn từ data frame ở bước 1"
      ]
    },
    {
      "cell_type": "code",
      "metadata": {
        "id": "bRRKQe6Y7dXx",
        "outputId": "9dac434b-d58e-44da-d896-06c9d1504d11",
        "colab": {
          "base_uri": "https://localhost:8080/"
        }
      },
      "source": [
        "df1 = df['ab'].apply(lambda x : remainder(x))\n",
        "df1.head()"
      ],
      "execution_count": 41,
      "outputs": [
        {
          "output_type": "execute_result",
          "data": {
            "text/plain": [
              "0    7.624311\n",
              "1    1.904343\n",
              "2        -inf\n",
              "3    2.366335\n",
              "4    3.180972\n",
              "Name: ab, dtype: float64"
            ]
          },
          "metadata": {
            "tags": []
          },
          "execution_count": 41
        }
      ]
    },
    {
      "cell_type": "markdown",
      "metadata": {
        "id": "Pf9OOyVA7dXx"
      },
      "source": [
        "4. Hãy thực thi hàm apply với lambda ở trên theo chiều ngang và chiều dọc với 1 nhóm cột (hoặc có thể là toàn bộ) của data frame ở bước 1"
      ]
    },
    {
      "cell_type": "code",
      "metadata": {
        "id": "_iI-42c37dXx",
        "outputId": "db6ce54c-d8b1-4eef-db0f-1f2cda9f701c",
        "colab": {
          "base_uri": "https://localhost:8080/"
        }
      },
      "source": [
        "a = df[['sb','cs']].apply(lambda x : remainder(x), axis = 0)\n",
        "b = df[['sb','cs']].apply(lambda x : remainder(x), axis = 1)\n",
        "print(a)\n",
        "print(b)"
      ],
      "execution_count": 53,
      "outputs": [
        {
          "output_type": "stream",
          "text": [
            "          sb   cs\n",
            "0   1.000000  1.0\n",
            "1       -inf -inf\n",
            "2       -inf -inf\n",
            "3       -inf -inf\n",
            "4       -inf -inf\n",
            "..       ...  ...\n",
            "95      -inf -inf\n",
            "96      -inf -inf\n",
            "97  3.180972  1.0\n",
            "98  2.366335 -inf\n",
            "99      -inf -inf\n",
            "\n",
            "[100 rows x 2 columns]\n",
            "          sb   cs\n",
            "0   1.000000  1.0\n",
            "1       -inf -inf\n",
            "2       -inf -inf\n",
            "3       -inf -inf\n",
            "4       -inf -inf\n",
            "..       ...  ...\n",
            "95      -inf -inf\n",
            "96      -inf -inf\n",
            "97  3.180972  1.0\n",
            "98  2.366335 -inf\n",
            "99      -inf -inf\n",
            "\n",
            "[100 rows x 2 columns]\n"
          ],
          "name": "stdout"
        },
        {
          "output_type": "stream",
          "text": [
            "/usr/local/lib/python3.7/dist-packages/pandas/core/series.py:726: RuntimeWarning: divide by zero encountered in log\n",
            "  result = getattr(ufunc, method)(*inputs, **kwargs)\n"
          ],
          "name": "stderr"
        }
      ]
    },
    {
      "cell_type": "markdown",
      "metadata": {
        "id": "VF1rRicR7dXx"
      },
      "source": [
        "THỰC HÀNH APPLY VÀ HÀM TỰ XÂY DỰNG\n",
        "\n",
        "Trong thực tế không phải lúc nào cũng sử dụng lambda với apply, mà có thể sử dụng apply với các hàm có sẵn khác hoặc do lập trình viên tự xây dựng."
      ]
    },
    {
      "cell_type": "markdown",
      "metadata": {
        "id": "wY5yvquV7dXx"
      },
      "source": [
        "1. Hãy áp dụng nhóm hàm sum, mean, sqrt, log của thư viện numpy cho data frame ở trên theo chiều ngang và chiều dọc"
      ]
    },
    {
      "cell_type": "code",
      "metadata": {
        "id": "gZ-Gsijf7dXy",
        "outputId": "1da27dc1-6a3e-4965-9222-1c5758cc7912",
        "colab": {
          "base_uri": "https://localhost:8080/"
        }
      },
      "source": [
        "a1 = df[['sb','cs']].apply(lambda x : np.sum(x), axis = 0)\n",
        "a2 = df[['sb','cs']].apply(lambda x : np.sum(x), axis = 1)\n",
        "b1 = df[['sb','cs']].apply(lambda x : np.mean(x), axis = 0)\n",
        "b2 = df[['sb','cs']].apply(lambda x : np.mean(x), axis = 1)\n",
        "c1 = df[['sb','cs']].apply(lambda x : np.sqrt(x), axis = 0)\n",
        "c2 = df[['sb','cs']].apply(lambda x : np.sqrt(x), axis = 1)\n",
        "d1 = df[['sb','cs']].apply(lambda x : np.log(x), axis = 0)\n",
        "d2 = df[['sb','cs']].apply(lambda x : np.log(x), axis = 1)\n",
        "print(a1)\n",
        "print(a2)\n",
        "print(b1)\n",
        "print(b2)\n",
        "print(c1)\n",
        "print(c2)\n",
        "print(d1)\n",
        "print(d2)"
      ],
      "execution_count": 52,
      "outputs": [
        {
          "output_type": "stream",
          "text": [
            "sb    138.0\n",
            "cs     46.0\n",
            "dtype: float64\n",
            "0     2.0\n",
            "1     0.0\n",
            "2     0.0\n",
            "3     0.0\n",
            "4     0.0\n",
            "     ... \n",
            "95    0.0\n",
            "96    0.0\n",
            "97    7.0\n",
            "98    3.0\n",
            "99    0.0\n",
            "Length: 100, dtype: float64\n",
            "sb    1.38\n",
            "cs    0.46\n",
            "dtype: float64\n",
            "0     1.0\n",
            "1     0.0\n",
            "2     0.0\n",
            "3     0.0\n",
            "4     0.0\n",
            "     ... \n",
            "95    0.0\n",
            "96    0.0\n",
            "97    3.5\n",
            "98    1.5\n",
            "99    0.0\n",
            "Length: 100, dtype: float64\n",
            "          sb   cs\n",
            "0   1.000000  1.0\n",
            "1   0.000000  0.0\n",
            "2   0.000000  0.0\n",
            "3   0.000000  0.0\n",
            "4   0.000000  0.0\n",
            "..       ...  ...\n",
            "95  0.000000  0.0\n",
            "96  0.000000  0.0\n",
            "97  2.449490  1.0\n",
            "98  1.732051  0.0\n",
            "99  0.000000  0.0\n",
            "\n",
            "[100 rows x 2 columns]\n",
            "          sb   cs\n",
            "0   1.000000  1.0\n",
            "1   0.000000  0.0\n",
            "2   0.000000  0.0\n",
            "3   0.000000  0.0\n",
            "4   0.000000  0.0\n",
            "..       ...  ...\n",
            "95  0.000000  0.0\n",
            "96  0.000000  0.0\n",
            "97  2.449490  1.0\n",
            "98  1.732051  0.0\n",
            "99  0.000000  0.0\n",
            "\n",
            "[100 rows x 2 columns]\n",
            "          sb   cs\n",
            "0   0.000000  0.0\n",
            "1       -inf -inf\n",
            "2       -inf -inf\n",
            "3       -inf -inf\n",
            "4       -inf -inf\n",
            "..       ...  ...\n",
            "95      -inf -inf\n",
            "96      -inf -inf\n",
            "97  1.791759  0.0\n",
            "98  1.098612 -inf\n",
            "99      -inf -inf\n",
            "\n",
            "[100 rows x 2 columns]\n",
            "          sb   cs\n",
            "0   0.000000  0.0\n",
            "1       -inf -inf\n",
            "2       -inf -inf\n",
            "3       -inf -inf\n",
            "4       -inf -inf\n",
            "..       ...  ...\n",
            "95      -inf -inf\n",
            "96      -inf -inf\n",
            "97  1.791759  0.0\n",
            "98  1.098612 -inf\n",
            "99      -inf -inf\n",
            "\n",
            "[100 rows x 2 columns]\n"
          ],
          "name": "stdout"
        },
        {
          "output_type": "stream",
          "text": [
            "/usr/local/lib/python3.7/dist-packages/pandas/core/series.py:726: RuntimeWarning: divide by zero encountered in log\n",
            "  result = getattr(ufunc, method)(*inputs, **kwargs)\n"
          ],
          "name": "stderr"
        }
      ]
    },
    {
      "cell_type": "markdown",
      "metadata": {
        "id": "84142Xdo7dXy"
      },
      "source": [
        "2. Hãy xây dựng một hàm có tên là my_function có tham số đầu vào là x. Phương pháp tính toán của hàm như sau:\n",
        " (i) Nếu x >0  thì trả về log10(x); (ii) Nếu x <= 0  thì trả về $e^{x}$"
      ]
    },
    {
      "cell_type": "code",
      "metadata": {
        "id": "6WHQEc_e7dXy",
        "outputId": "77abcca4-89c5-41fc-d422-1e0336df4df4",
        "colab": {
          "base_uri": "https://localhost:8080/"
        }
      },
      "source": [
        "my_function = lambda x: np.log10(x) if x>0 else np.exp(x)\n",
        "my_function(-1)"
      ],
      "execution_count": 55,
      "outputs": [
        {
          "output_type": "execute_result",
          "data": {
            "text/plain": [
              "0.36787944117144233"
            ]
          },
          "metadata": {
            "tags": []
          },
          "execution_count": 55
        }
      ]
    },
    {
      "cell_type": "markdown",
      "metadata": {
        "id": "b_mRxpOh7dXy"
      },
      "source": [
        "3. Hãy sử dụng hàm apply để gọi my_function áp dụng cho data frame ở bước 1 ở trên"
      ]
    },
    {
      "cell_type": "code",
      "metadata": {
        "id": "XPP9q4AC7dXy",
        "outputId": "53efe23e-906e-48c9-95c8-fdd5dc254bf4",
        "colab": {
          "base_uri": "https://localhost:8080/"
        }
      },
      "source": [
        "df['so'].apply(lambda x: my_function(x))"
      ],
      "execution_count": 56,
      "outputs": [
        {
          "output_type": "execute_result",
          "data": {
            "text/plain": [
              "0     0.602060\n",
              "1     0.000000\n",
              "2     1.000000\n",
              "3     0.301030\n",
              "4     0.602060\n",
              "        ...   \n",
              "95    1.000000\n",
              "96    1.000000\n",
              "97    1.869232\n",
              "98    1.477121\n",
              "99    0.477121\n",
              "Name: so, Length: 100, dtype: float64"
            ]
          },
          "metadata": {
            "tags": []
          },
          "execution_count": 56
        }
      ]
    }
  ]
}