{
  "nbformat": 4,
  "nbformat_minor": 0,
  "metadata": {
    "colab": {
      "name": "bài 8 chương 4.ipynb",
      "provenance": [],
      "authorship_tag": "ABX9TyPEsmyboxUcM3LXg80UupLx",
      "include_colab_link": true
    },
    "kernelspec": {
      "name": "python3",
      "display_name": "Python 3"
    }
  },
  "cells": [
    {
      "cell_type": "markdown",
      "metadata": {
        "id": "view-in-github",
        "colab_type": "text"
      },
      "source": [
        "<a href=\"https://colab.research.google.com/github/thanhlamnguyen/lam/blob/main/b%C3%A0i_8_ch%C6%B0%C6%A1ng_4.ipynb\" target=\"_parent\"><img src=\"https://colab.research.google.com/assets/colab-badge.svg\" alt=\"Open In Colab\"/></a>"
      ]
    },
    {
      "cell_type": "code",
      "metadata": {
        "colab": {
          "base_uri": "https://localhost:8080/"
        },
        "id": "v3_-oflJJb8I",
        "outputId": "b08487f6-6e36-4e4f-9cc2-62dc0dab030c"
      },
      "source": [
        "import smtplib\n",
        "server = smtplib.SMTP('smtp.gmail.com', 587)\n",
        "server.starttls()\n",
        "server.login(\"luckylucy0912102915@gmail.com\",\"thanhlam0914620225\")\n",
        "msg = \"16 Typh on the mic\"\n",
        "for i in range(7):\n",
        "    if i <= 7:\n",
        "        server.sendmail(\"luckylucy0912102915@gmail.com\",\"nguyenthanhlam06072002@gmail.com\",msg)\n",
        "        i+=1\n",
        "server.quit()"
      ],
      "execution_count": 1,
      "outputs": [
        {
          "output_type": "execute_result",
          "data": {
            "text/plain": [
              "(221, b'2.0.0 closing connection h79sm1738212vka.50 - gsmtp')"
            ]
          },
          "metadata": {
            "tags": []
          },
          "execution_count": 1
        }
      ]
    }
  ]
}