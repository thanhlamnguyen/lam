{
  "nbformat": 4,
  "nbformat_minor": 0,
  "metadata": {
    "colab": {
      "name": "timdoanlinkdungdinhdang.ipynb",
      "provenance": [],
      "include_colab_link": true
    },
    "kernelspec": {
      "name": "python3",
      "display_name": "Python 3"
    }
  },
  "cells": [
    {
      "cell_type": "markdown",
      "metadata": {
        "id": "view-in-github",
        "colab_type": "text"
      },
      "source": [
        "<a href=\"https://colab.research.google.com/github/thanhlamnguyen/lam/blob/main/timdoanlinkdungdinhdang.ipynb\" target=\"_parent\"><img src=\"https://colab.research.google.com/assets/colab-badge.svg\" alt=\"Open In Colab\"/></a>"
      ]
    },
    {
      "cell_type": "markdown",
      "metadata": {
        "id": "yO3H9ItxQZ9M"
      },
      "source": [
        "+ SỬ dụng thêm thư viện BeautifulSoup\r\n",
        "+ Khai báo thư viện python re"
      ]
    },
    {
      "cell_type": "code",
      "metadata": {
        "id": "I_S33rZrQPwj"
      },
      "source": [
        "import re\r\n",
        "import requests\r\n",
        "from bs4 import BeautifulSoup"
      ],
      "execution_count": null,
      "outputs": []
    },
    {
      "cell_type": "markdown",
      "metadata": {
        "id": "G68s2rR3FQtl"
      },
      "source": [
        "+ Khai báo link"
      ]
    },
    {
      "cell_type": "code",
      "metadata": {
        "id": "vOyv0lmcRBRc"
      },
      "source": [
        "link = requests.get('https://thethao247.vn/')"
      ],
      "execution_count": null,
      "outputs": []
    },
    {
      "cell_type": "markdown",
      "metadata": {
        "id": "ltoabuobRZ5A"
      },
      "source": [
        "Đưa mã HTML vừa được yêu cầu về dạng đẹp với BeautifulSoup"
      ]
    },
    {
      "cell_type": "code",
      "metadata": {
        "id": "XFq9cB7lRSjA"
      },
      "source": [
        "link_soup = BeautifulSoup(link.text,'html.parser')"
      ],
      "execution_count": null,
      "outputs": []
    },
    {
      "cell_type": "markdown",
      "metadata": {
        "id": "cKCL-ureSYfO"
      },
      "source": [
        "Tìm tới những chỗ nào mà thẻ a href được đặc tên, vì thẻ này sẽ được đặc tên khác nhau tùy từng trang"
      ]
    },
    {
      "cell_type": "code",
      "metadata": {
        "id": "KbqIDr3-SQYI"
      },
      "source": [
        "results = link_soup('a', attrs={'href':True})"
      ],
      "execution_count": null,
      "outputs": []
    },
    {
      "cell_type": "code",
      "metadata": {
        "colab": {
          "base_uri": "https://localhost:8080/"
        },
        "id": "TQsXv8ZJSrtO",
        "outputId": "692c3dca-4de3-4ea5-c0e5-a187c8e9e7bf"
      },
      "source": [
        "results[0:5]"
      ],
      "execution_count": null,
      "outputs": [
        {
          "output_type": "execute_result",
          "data": {
            "text/plain": [
              "[<a href=\"/\"><img alt=\"thethao247\" src=\"https://thethao247.vn/templates/demo/pc/static/img/logo.svg\"/></a>,\n",
              " <a class=\"item_acc fmedium\" href=\"https://www.tinmoi.vn\" target=\"_blank\" title=\"Tinmoi.vn\">\n",
              " <i class=\"icon-news\"></i>\n",
              "                     Tinmoi.vn\n",
              "                 </a>,\n",
              " <a class=\"item_acc fmedium\" href=\"https://www.techz.vn/\" target=\"_blank\" title=\"Techz.vn\">\n",
              " <i class=\"icon-news\"></i>\n",
              "                     CÃ´ng nghá»\n",
              "                 </a>,\n",
              " <a class=\"item_recuit fmedium\" href=\"https://jobs.thethao247.vn/\" rel=\"nofollow\" target=\"_blank\">\n",
              " <i class=\"icon-care\"></i>\n",
              "                     Tuyá»n dá»¥ng\n",
              "                 </a>,\n",
              " <a class=\"item_ads fmedium\" href=\"/bao-gia.html\" rel=\"nofollow\">\n",
              " <i class=\"icon-ads\"></i>\n",
              "                     Quáº£ng cÃ¡o\n",
              "                 </a>]"
            ]
          },
          "metadata": {
            "tags": []
          },
          "execution_count": 7
        }
      ]
    },
    {
      "cell_type": "code",
      "metadata": {
        "id": "7cCOpmQATLVp"
      },
      "source": [
        "a= set()\r\n",
        "for i in results:\r\n",
        "    a.add(i['href'])"
      ],
      "execution_count": null,
      "outputs": []
    },
    {
      "cell_type": "code",
      "metadata": {
        "colab": {
          "base_uri": "https://localhost:8080/"
        },
        "id": "Q0qST4BTUjev",
        "outputId": "eadfd44c-d231-46d4-f756-63692ae30d10"
      },
      "source": [
        "list(a)[0:6]"
      ],
      "execution_count": null,
      "outputs": [
        {
          "output_type": "execute_result",
          "data": {
            "text/plain": [
              "['https://thethao247.vn/365-gramoz-nam-dinh-chua-tra-bat-cu-dong-luong-nao-cho-toi-d223816.html',\n",
              " 'https://thethao247.vn/364-o-to-kia-nhan-uu-dai-lon-dau-nam-mua-kia-morning-chi-voi-60-trieu-vnd-d223333.html',\n",
              " 'https://thethao247.vn/sea-games-c88/',\n",
              " 'https://thethao247.vn/366-video-sieu-pham-phan-luoi-nha-phong-cach-cau-vong-khuyet-d223823.html',\n",
              " '//thethao247.vn/cau-long-c44/',\n",
              " 'https://thethao247.vn/nhan-dinh-bong-da-c288/']"
            ]
          },
          "metadata": {
            "tags": []
          },
          "execution_count": 12
        }
      ]
    }
  ]
}