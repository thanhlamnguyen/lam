{
  "nbformat": 4,
  "nbformat_minor": 0,
  "metadata": {
    "colab": {
      "name": "Bài tập lập trình chương 2.ipynb",
      "provenance": [],
      "collapsed_sections": [],
      "authorship_tag": "ABX9TyNDZOmBiq+08qyh/j1E4mP/",
      "include_colab_link": true
    },
    "kernelspec": {
      "name": "python3",
      "display_name": "Python 3"
    }
  },
  "cells": [
    {
      "cell_type": "markdown",
      "metadata": {
        "id": "view-in-github",
        "colab_type": "text"
      },
      "source": [
        "<a href=\"https://colab.research.google.com/github/thanhlamnguyen/lam/blob/main/B%C3%A0i_t%E1%BA%ADp_l%E1%BA%ADp_tr%C3%ACnh_ch%C6%B0%C6%A1ng_2.ipynb\" target=\"_parent\"><img src=\"https://colab.research.google.com/assets/colab-badge.svg\" alt=\"Open In Colab\"/></a>"
      ]
    },
    {
      "cell_type": "markdown",
      "metadata": {
        "id": "-RK-VJjFBKsq"
      },
      "source": [
        "Bai 1:Lập trình nhập vào từ bàn phím 2 số nguyên và tính"
      ]
    },
    {
      "cell_type": "code",
      "metadata": {
        "id": "g7Cmc--sBctc",
        "outputId": "d7bc8a18-89df-4d56-f9e8-1ce04348e2b4",
        "colab": {
          "base_uri": "https://localhost:8080/"
        }
      },
      "source": [
        "a = int(input(\"a=\"))\n",
        "b = int(input(\"b=\"))\n",
        "c = a+b\n",
        "d = a-b\n",
        "e = a*b\n",
        "f = a/b\n",
        "g = a%b\n",
        "h = a//b\n",
        "print ('a+b=',c)\n",
        "print ('a-b=',d)\n",
        "print ('a*b=',e)\n",
        "print ('a/b=',f)\n",
        "print ('phep chia lay phan du =',g)\n",
        "print ('phep chia lay phan nguyen =',h)"
      ],
      "execution_count": null,
      "outputs": [
        {
          "output_type": "stream",
          "text": [
            "a=5\n",
            "b=4\n",
            "a+b= 9\n",
            "a-b= 1\n",
            "a*b= 20\n",
            "a/b= 1.25\n",
            "phep chia lay phan du = 1\n",
            "phep chia lay phan nguyen = 1\n"
          ],
          "name": "stdout"
        }
      ]
    },
    {
      "cell_type": "markdown",
      "metadata": {
        "id": "sDC8AEZCLrbZ"
      },
      "source": [
        "Bai 2: Lập trình nhập vào từ bàn phím 2 số thực và tính"
      ]
    },
    {
      "cell_type": "code",
      "metadata": {
        "id": "9xoC9VWvLt21",
        "outputId": "85cfa8d0-6f49-4f72-d153-76550629061e",
        "colab": {
          "base_uri": "https://localhost:8080/"
        }
      },
      "source": [
        "a = float(input(\"a=\"))\n",
        "b = float(input(\"b=\"))\n",
        "c = a+b\n",
        "d = a*b\n",
        "e = a-b\n",
        "f = a/b\n",
        "print ('a+b=',c)\n",
        "print ('a*b=',d)\n",
        "print ('a-b=',e)\n",
        "print ('a/b=',f)\n"
      ],
      "execution_count": null,
      "outputs": [
        {
          "output_type": "stream",
          "text": [
            "a=1.32\n",
            "b=3.56\n",
            "a+b= 4.88\n",
            "a*b= 4.6992\n",
            "a-b= -2.24\n",
            "a/b= 0.3707865168539326\n"
          ],
          "name": "stdout"
        }
      ]
    },
    {
      "cell_type": "markdown",
      "metadata": {
        "id": "qZwXj6LaNDWm"
      },
      "source": [
        "Bai 3: (Sử dụng các hàm toán học) Nhập một số từ bàn phím và tính"
      ]
    },
    {
      "cell_type": "code",
      "metadata": {
        "id": "lsn2-kIFNFGd",
        "outputId": "4447a4df-9f01-438e-c05c-7ca8aeeb05fa",
        "colab": {
          "base_uri": "https://localhost:8080/"
        }
      },
      "source": [
        "x = float(input(\"x=\"))\n",
        "y = float(input(\"y=\"))\n",
        "a = abs(x)\n",
        "b = int(x)\n",
        "c = float(x)\n",
        "d = pow(x,y)\n",
        "# import the math module \n",
        "import math\n",
        "e = math.sqrt(abs(x))\n",
        "print ('Tri tuyet doi cua x =',a)\n",
        "print ('Phan nguyen cua so =',b)\n",
        "print ('Chuyen doi thanh so thuc =',c)\n",
        "print ('Luy thua =',d)\n",
        "print ('can bac 2 của |a| =',e)"
      ],
      "execution_count": 30,
      "outputs": [
        {
          "output_type": "stream",
          "text": [
            "x=3.2\n",
            "y=5\n",
            "Tri tuyet doi cua x = 3.2\n",
            "Phan nguyen cua so = 3\n",
            "Chuyen doi thanh so thuc = 3.2\n",
            "Luy thua = 335.5443200000001\n",
            "can bac 2 của |a| = 1.7888543819998317\n"
          ],
          "name": "stdout"
        }
      ]
    },
    {
      "cell_type": "markdown",
      "metadata": {
        "id": "6_Qv6RCmh7ez"
      },
      "source": [
        "Bai 4: Nhập 2 số từ bàn phím và thực hiện các phép so sánh sau giữa 2 số"
      ]
    },
    {
      "cell_type": "code",
      "metadata": {
        "id": "O6mOnEFeh88J",
        "outputId": "76d4d31d-aeeb-4ab6-86b6-e9862842b0bb",
        "colab": {
          "base_uri": "https://localhost:8080/"
        }
      },
      "source": [
        "x = float(input('x='))\n",
        "y = float(input('y='))\n",
        "print (\"x>=y:\",x>=y)\n",
        "print (\"x<=y:\",x<=y)\n",
        "print (\"x#y:\",x!=y)\n",
        "print (\"x>y:\",x>y)\n",
        "print (\"x<y:\",x<y)\n"
      ],
      "execution_count": 24,
      "outputs": [
        {
          "output_type": "stream",
          "text": [
            "x=3\n",
            "y=4\n",
            "x>=y: False\n",
            "x<=y: True\n",
            "x#y: True\n",
            "x>y: False\n",
            "x<y: True\n"
          ],
          "name": "stdout"
        }
      ]
    },
    {
      "cell_type": "markdown",
      "metadata": {
        "id": "d97L-yDArNB7"
      },
      "source": [
        "Bai 5: Nhập 1 chuỗi ký tự từ bàn phím"
      ]
    },
    {
      "cell_type": "code",
      "metadata": {
        "id": "2aHu7vVnrOy_",
        "outputId": "24f8bef6-b0c0-4007-e18e-2708af799a0e",
        "colab": {
          "base_uri": "https://localhost:8080/"
        }
      },
      "source": [
        "a = \"16 Typh on the mic\"\n",
        "print (\"Chuoi in hoa :\",str.upper(a))\n",
        "print (\"Chuoi in thuong :\",str.lower(a))"
      ],
      "execution_count": 25,
      "outputs": [
        {
          "output_type": "stream",
          "text": [
            "Chuoi in hoa : 16 TYPH ON THE MIC\n",
            "Chuoi in thuong : 16 typh on the mic\n"
          ],
          "name": "stdout"
        }
      ]
    },
    {
      "cell_type": "markdown",
      "metadata": {
        "id": "C4Ym9oJ_sm2C"
      },
      "source": [
        "Bai 6: Xuất ra màn hình 1 chuỗi ký từ nằm trên nhiều hàng (có thể là 1 bài thơ tùy ý bạn lựa chọn)"
      ]
    },
    {
      "cell_type": "code",
      "metadata": {
        "id": "COpvtFMzso_d",
        "outputId": "0523e2f4-5fdd-494b-afbf-2bc7bbda0390",
        "colab": {
          "base_uri": "https://localhost:8080/"
        }
      },
      "source": [
        "print ('''16 Typh's on the mic\n",
        "Cứ dang tay và play on night\n",
        "Hoa phượng đỏ\n",
        "Hải phòng city\n",
        "Người ở đây không ngán một ai''')"
      ],
      "execution_count": 28,
      "outputs": [
        {
          "output_type": "stream",
          "text": [
            "16 Typh's on the mic\n",
            "Cứ dang tay và play on night\n",
            "Hoa phượng đỏ\n",
            "Hải phòng city\n",
            "Người ở đây không ngán một ai\n"
          ],
          "name": "stdout"
        }
      ]
    }
  ]
}