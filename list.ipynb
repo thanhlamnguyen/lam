{
  "nbformat": 4,
  "nbformat_minor": 0,
  "metadata": {
    "colab": {
      "name": "list.ipynb",
      "provenance": [],
      "authorship_tag": "ABX9TyPS8+VIM6AoavcSmz0baju7",
      "include_colab_link": true
    },
    "kernelspec": {
      "name": "python3",
      "display_name": "Python 3"
    }
  },
  "cells": [
    {
      "cell_type": "markdown",
      "metadata": {
        "id": "view-in-github",
        "colab_type": "text"
      },
      "source": [
        "<a href=\"https://colab.research.google.com/github/thanhlamnguyen/lam/blob/main/list.ipynb\" target=\"_parent\"><img src=\"https://colab.research.google.com/assets/colab-badge.svg\" alt=\"Open In Colab\"/></a>"
      ]
    },
    {
      "cell_type": "code",
      "metadata": {
        "id": "7cMRqlnPe8D4",
        "outputId": "1256f934-c4c1-40b5-fc41-6cec4f0c3100",
        "colab": {
          "base_uri": "https://localhost:8080/"
        }
      },
      "source": [
        "x = []\n",
        "print ('x=',x)"
      ],
      "execution_count": 4,
      "outputs": [
        {
          "output_type": "stream",
          "text": [
            "x= []\n"
          ],
          "name": "stdout"
        }
      ]
    },
    {
      "cell_type": "code",
      "metadata": {
        "id": "iorSwxyEL_jx",
        "outputId": "b452e19d-894e-40c3-e7fc-4fa6c3038bcf",
        "colab": {
          "base_uri": "https://localhost:8080/"
        }
      },
      "source": [
        "x = [18]\n",
        "print ('x=',x)"
      ],
      "execution_count": 5,
      "outputs": [
        {
          "output_type": "stream",
          "text": [
            "x= [18]\n"
          ],
          "name": "stdout"
        }
      ]
    },
    {
      "cell_type": "code",
      "metadata": {
        "id": "Nwj9pOBlO8q8",
        "outputId": "b7d42be3-893f-4ba2-926d-2c890f0175c6",
        "colab": {
          "base_uri": "https://localhost:8080/"
        }
      },
      "source": [
        "x = list([18, 'Huế'])\n",
        "print ('x=',x)"
      ],
      "execution_count": 16,
      "outputs": [
        {
          "output_type": "stream",
          "text": [
            "x= [18, 'Huế']\n"
          ],
          "name": "stdout"
        }
      ]
    },
    {
      "cell_type": "code",
      "metadata": {
        "id": "TjG1UoWLPfNY",
        "outputId": "fa2bf85d-8b5f-4cfc-c7cb-31f2ff08f3a8",
        "colab": {
          "base_uri": "https://localhost:8080/"
        }
      },
      "source": [
        "y = list([12, 45, -1, -0.56, \"abc\"])\n",
        "print ('y=',y)"
      ],
      "execution_count": 19,
      "outputs": [
        {
          "output_type": "stream",
          "text": [
            "y= [12, 45, -1, -0.56, 'abc']\n"
          ],
          "name": "stdout"
        }
      ]
    },
    {
      "cell_type": "code",
      "metadata": {
        "id": "IkvlBXllQGlA",
        "outputId": "8d0531b9-88f8-4fe4-989e-a4d2b495df82",
        "colab": {
          "base_uri": "https://localhost:8080/"
        }
      },
      "source": [
        "y = list([12, 45, -1, -0.56, \"abc\"])\n",
        "x =  [18, 'Huế'] + y\n",
        "print ('x=',x)"
      ],
      "execution_count": 26,
      "outputs": [
        {
          "output_type": "stream",
          "text": [
            "x= [18, 'Huế', 12, 45, -1, -0.56, 'abc']\n"
          ],
          "name": "stdout"
        }
      ]
    },
    {
      "cell_type": "code",
      "metadata": {
        "id": "Re1aF4XyUrWm",
        "outputId": "da059ddd-e666-49c4-953e-c10419accb46",
        "colab": {
          "base_uri": "https://localhost:8080/"
        }
      },
      "source": [
        "y = list([12, 45, -1, -0.56, \"abc\"])\n",
        "x =  [18, 'Huế'] + y\n",
        "b = x[0]\n",
        "c = x[-1]\n",
        "print (b)\n",
        "print (c)"
      ],
      "execution_count": 27,
      "outputs": [
        {
          "output_type": "stream",
          "text": [
            "18\n",
            "abc\n"
          ],
          "name": "stdout"
        }
      ]
    },
    {
      "cell_type": "code",
      "metadata": {
        "id": "IIuCvM2lZPGL",
        "outputId": "4567ef5f-aee3-4ac3-e011-a24d2cd72047",
        "colab": {
          "base_uri": "https://localhost:8080/"
        }
      },
      "source": [
        "y = list([12, 45, -1, -0.56, \"abc\"])\n",
        "x =  [18, 'Huế'] + y\n",
        "b = x[:5]\n",
        "print (b)"
      ],
      "execution_count": 33,
      "outputs": [
        {
          "output_type": "stream",
          "text": [
            "[18, 'Huế', 12, 45, -1]\n"
          ],
          "name": "stdout"
        }
      ]
    },
    {
      "cell_type": "code",
      "metadata": {
        "id": "pJXrGbpTaSo9",
        "outputId": "afee85f5-9014-4cf1-c14f-3743b1d29e67",
        "colab": {
          "base_uri": "https://localhost:8080/"
        }
      },
      "source": [
        "y = list([12, 45, -1, -0.56, \"abc\"])\n",
        "x =  [18, 'Huế'] + y\n",
        "b = x[2:]\n",
        "print (b)"
      ],
      "execution_count": 35,
      "outputs": [
        {
          "output_type": "stream",
          "text": [
            "[12, 45, -1, -0.56, 'abc']\n"
          ],
          "name": "stdout"
        }
      ]
    }
  ]
}