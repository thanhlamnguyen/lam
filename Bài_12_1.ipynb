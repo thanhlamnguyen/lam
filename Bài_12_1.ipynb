{
  "nbformat": 4,
  "nbformat_minor": 0,
  "metadata": {
    "colab": {
      "name": "Bài 12.1.ipynb",
      "provenance": [],
      "authorship_tag": "ABX9TyPAb38QL3zXUA9APzRncPPo",
      "include_colab_link": true
    },
    "kernelspec": {
      "name": "python3",
      "display_name": "Python 3"
    }
  },
  "cells": [
    {
      "cell_type": "markdown",
      "metadata": {
        "id": "view-in-github",
        "colab_type": "text"
      },
      "source": [
        "<a href=\"https://colab.research.google.com/github/thanhlamnguyen/lam/blob/main/B%C3%A0i_12_1.ipynb\" target=\"_parent\"><img src=\"https://colab.research.google.com/assets/colab-badge.svg\" alt=\"Open In Colab\"/></a>"
      ]
    },
    {
      "cell_type": "markdown",
      "metadata": {
        "id": "6d9XfQCOXX3I"
      },
      "source": [
        "Bài 12.1.1"
      ]
    },
    {
      "cell_type": "code",
      "metadata": {
        "colab": {
          "base_uri": "https://localhost:8080/"
        },
        "id": "mIYsQNlpWsmg",
        "outputId": "1a2b0612-e6ca-48e7-fb0a-6aba0c53879f"
      },
      "source": [
        "import random\n",
        "def Rand(start, end, num):\n",
        "    res = []\n",
        "    for j in range(num):\n",
        "        res.append(random.randint(start, end))\n",
        "    return res\n",
        "num = 1 \n",
        "start = 50\n",
        "end = 1000\n",
        "print (Rand(start, end, num))  "
      ],
      "execution_count": 1,
      "outputs": [
        {
          "output_type": "stream",
          "text": [
            "[502]\n"
          ],
          "name": "stdout"
        }
      ]
    },
    {
      "cell_type": "markdown",
      "metadata": {
        "id": "h5eKprQnX0Mm"
      },
      "source": [
        "Bài 12.1.2"
      ]
    },
    {
      "cell_type": "code",
      "metadata": {
        "colab": {
          "base_uri": "https://localhost:8080/"
        },
        "id": "QPCFzrsuX2Co",
        "outputId": "040bbfb0-d321-46fc-909b-0bf9c187bbb1"
      },
      "source": [
        "import random\n",
        "def Rand(start, end, num):\n",
        "    res = []\n",
        "    for j in range(num):\n",
        "        res.append(random.randint(start, end))\n",
        "    return res\n",
        "num = 10 \n",
        "start = -1000\n",
        "end = 1000\n",
        "print (Rand(start, end, num))  "
      ],
      "execution_count": 2,
      "outputs": [
        {
          "output_type": "stream",
          "text": [
            "[-309, 188, -22, 443, -720, -657, -601, -84, 241, -400]\n"
          ],
          "name": "stdout"
        }
      ]
    },
    {
      "cell_type": "markdown",
      "metadata": {
        "id": "Nju7uS_UX7Ke"
      },
      "source": [
        "Bài 12.1.3"
      ]
    },
    {
      "cell_type": "code",
      "metadata": {
        "colab": {
          "base_uri": "https://localhost:8080/"
        },
        "id": "WHijyLSgYDiG",
        "outputId": "32050b4f-9589-4a52-cc78-459db24cf21e"
      },
      "source": [
        "import random\n",
        "def Rand(start, end, num):\n",
        "    res = []\n",
        "    for j in range(num):\n",
        "        res.append(random.uniform(start, end))\n",
        "    return res\n",
        "num = 10 \n",
        "start = -1000\n",
        "end = 1000\n",
        "print (Rand(start, end, num))        "
      ],
      "execution_count": 3,
      "outputs": [
        {
          "output_type": "stream",
          "text": [
            "[-316.4583457108041, 286.95616251472666, -822.9560323255612, -313.13727950074326, 899.770196400737, -680.8804777663499, -917.6655601013816, 363.7759676111093, -89.59244162543723, 197.30758585980084]\n"
          ],
          "name": "stdout"
        }
      ]
    }
  ]
}