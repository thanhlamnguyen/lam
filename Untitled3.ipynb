{
  "nbformat": 4,
  "nbformat_minor": 0,
  "metadata": {
    "colab": {
      "name": "Untitled3.ipynb",
      "provenance": [],
      "authorship_tag": "ABX9TyM20u/DCMFHxJI4uLXsQTsy",
      "include_colab_link": true
    },
    "kernelspec": {
      "name": "python3",
      "display_name": "Python 3"
    }
  },
  "cells": [
    {
      "cell_type": "markdown",
      "metadata": {
        "id": "view-in-github",
        "colab_type": "text"
      },
      "source": [
        "<a href=\"https://colab.research.google.com/github/thanhlamnguyen/lam/blob/main/Untitled3.ipynb\" target=\"_parent\"><img src=\"https://colab.research.google.com/assets/colab-badge.svg\" alt=\"Open In Colab\"/></a>"
      ]
    },
    {
      "cell_type": "markdown",
      "metadata": {
        "id": "VQYlxkXWJX7g"
      },
      "source": [
        ""
      ]
    },
    {
      "cell_type": "code",
      "metadata": {
        "colab": {
          "base_uri": "https://localhost:8080/"
        },
        "id": "L6EnADPIJWjR",
        "outputId": "f0953efa-2a99-4dc6-c1c2-b541027d5e9a"
      },
      "source": [
        "i = 1\n",
        "n = int(input(\"Số phần trình bậc nhất cần giải =\"))\n",
        "print (\"Giải phương trình bằng while\")\n",
        "while i <= n:\n",
        "    a = int(input(\"Nhập a=\"))\n",
        "    b = int(input(\"Nhập b=\"))\n",
        "    if a == 0:\n",
        "        if b == 0:\n",
        "            print (\"Phương trình có vô số nghiệm\")\n",
        "        else:\n",
        "            print (\"Phương trình vô nghiệm\")\n",
        "    else:\n",
        "        x = (-b)/a\n",
        "        print (\"Phương trình có nghiệm =\",\"x =\",x)\n",
        "    i=i+1\n",
        "print (\"Kết thúc giải phương trình bậc nhất bằng while\")\n",
        "print (\"Giải phương trình bằng for\")\n",
        "for i in range(n):\n",
        "    a = int(input(\"Nhập a=\"))\n",
        "    b = int(input(\"Nhập b=\"))\n",
        "    if a == 0:\n",
        "        if b == 0:\n",
        "            print (\"Phương trình có vô số nghiệm\")\n",
        "        else:\n",
        "            print (\"Phương trình vô nghiệm\")\n",
        "    else:\n",
        "        x = (-b)/a\n",
        "        print (\"Phương trình có nghiệm =\",\"x =\",x)\n",
        "print (\"Kết thúc giải phương trình bậc nhất bằng for\")\n",
        "    "
      ],
      "execution_count": 5,
      "outputs": [
        {
          "output_type": "stream",
          "text": [
            "Số phần trình bậc nhất cần giải =1\n",
            "Giải phương trình bằng while\n",
            "Nhập a=2\n",
            "Nhập b=3\n",
            "Phương trình có nghiệm = x = -1.5\n",
            "Kết thúc giải phương trình bậc nhất bằng while\n",
            "Giải phương trình bằng for\n",
            "Nhập a=3\n",
            "Nhập b=4\n",
            "Phương trình có nghiệm = x = -1.3333333333333333\n",
            "Kết thúc giải phương trình bậc nhất bằng for\n"
          ],
          "name": "stdout"
        }
      ]
    }
  ]
}