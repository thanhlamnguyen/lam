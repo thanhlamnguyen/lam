{
  "nbformat": 4,
  "nbformat_minor": 0,
  "metadata": {
    "colab": {
      "name": "Bài 12.3 chương 4.ipynb",
      "provenance": [],
      "authorship_tag": "ABX9TyMvNozD9oETaVHJzTCNKGNb",
      "include_colab_link": true
    },
    "kernelspec": {
      "name": "python3",
      "display_name": "Python 3"
    }
  },
  "cells": [
    {
      "cell_type": "markdown",
      "metadata": {
        "id": "view-in-github",
        "colab_type": "text"
      },
      "source": [
        "<a href=\"https://colab.research.google.com/github/thanhlamnguyen/lam/blob/main/B%C3%A0i_12_3_ch%C6%B0%C6%A1ng_4.ipynb\" target=\"_parent\"><img src=\"https://colab.research.google.com/assets/colab-badge.svg\" alt=\"Open In Colab\"/></a>"
      ]
    },
    {
      "cell_type": "markdown",
      "metadata": {
        "id": "2hldvh8MxHnE"
      },
      "source": [
        "- Tạo ngẫu nhiên số  phần tử của List  50 <= n <= 100"
      ]
    },
    {
      "cell_type": "code",
      "metadata": {
        "colab": {
          "base_uri": "https://localhost:8080/"
        },
        "id": "Fxb47kopxHHG",
        "outputId": "56fb3a63-769b-439c-ba2b-6fe0e471803e"
      },
      "source": [
        "import numpy as np\n",
        "n = int(input(\"nhap vao so phan tu cua list= \"))\n",
        "rd = np.random.random_sample(size=n)*200000-100000\n",
        "print(\"list= \",rd)"
      ],
      "execution_count": 1,
      "outputs": [
        {
          "output_type": "stream",
          "text": [
            "nhap vao so phan tu cua list= 4\n",
            "list=  [ 75413.18182397  28510.62921732 -64364.8272612   75124.89312997]\n"
          ],
          "name": "stdout"
        }
      ]
    },
    {
      "cell_type": "markdown",
      "metadata": {
        "id": "4Cw-4tCvxkqC"
      },
      "source": [
        "- Tạo  ngẫu nhiên List gồm n phần tử với cấu trúc sau: [{'name': ' sinh ngẫu nhiên', 'age': 'sinh ngẫu nhiên'}] có tất cả n dictionary như trên trong List."
      ]
    },
    {
      "cell_type": "code",
      "metadata": {
        "colab": {
          "base_uri": "https://localhost:8080/"
        },
        "id": "Q40cOe2oxFLs",
        "outputId": "ea7f089d-b623-466b-f5d3-baf5399a7f34"
      },
      "source": [
        "import random, string\n",
        "n = random.randint(50,100)\n",
        "x = list()\n",
        "i=1\n",
        "for i in range(n):\n",
        "    l=random.randint(2,5)\n",
        "    y = dict()\n",
        "    g = random.choice(string.ascii_uppercase)\n",
        "    p = g + ''.join(random.choice(string.ascii_lowercase) for _ in range(l - 1))\n",
        "    y['name'] = p\n",
        "    h = random.randint(1, 100)\n",
        "    y['age'] =h\n",
        "    x.append(y)\n",
        "print(x)"
      ],
      "execution_count": 2,
      "outputs": [
        {
          "output_type": "stream",
          "text": [
            "[{'name': 'Qryl', 'age': 25}, {'name': 'Lda', 'age': 61}, {'name': 'Elk', 'age': 13}, {'name': 'Brzgu', 'age': 9}, {'name': 'Mp', 'age': 82}, {'name': 'Yy', 'age': 86}, {'name': 'Kk', 'age': 34}, {'name': 'Ayilq', 'age': 70}, {'name': 'Utczf', 'age': 3}, {'name': 'Rgc', 'age': 44}, {'name': 'Bdzo', 'age': 20}, {'name': 'Lxr', 'age': 93}, {'name': 'Qrxcr', 'age': 53}, {'name': 'Swwi', 'age': 30}, {'name': 'Sxvj', 'age': 34}, {'name': 'Bnlp', 'age': 98}, {'name': 'Tu', 'age': 91}, {'name': 'Gom', 'age': 83}, {'name': 'Bqm', 'age': 82}, {'name': 'Npuyf', 'age': 13}, {'name': 'Us', 'age': 63}, {'name': 'Az', 'age': 84}, {'name': 'Oyf', 'age': 24}, {'name': 'Utyp', 'age': 78}, {'name': 'Wgu', 'age': 16}, {'name': 'Tkr', 'age': 96}, {'name': 'Vyw', 'age': 21}, {'name': 'Kxwrh', 'age': 18}, {'name': 'Seei', 'age': 85}, {'name': 'Kdj', 'age': 24}, {'name': 'Efm', 'age': 48}, {'name': 'Sjs', 'age': 71}, {'name': 'Eza', 'age': 92}, {'name': 'Iw', 'age': 96}, {'name': 'Pkls', 'age': 27}, {'name': 'Smug', 'age': 29}, {'name': 'Tmqty', 'age': 61}, {'name': 'Uk', 'age': 15}, {'name': 'Dndba', 'age': 49}, {'name': 'Qjvz', 'age': 25}, {'name': 'Qe', 'age': 77}, {'name': 'Sdlun', 'age': 85}, {'name': 'Tkieo', 'age': 87}, {'name': 'Hszog', 'age': 75}, {'name': 'Dwmsw', 'age': 16}, {'name': 'Rc', 'age': 55}, {'name': 'Hpv', 'age': 15}, {'name': 'Lvow', 'age': 13}, {'name': 'Vpp', 'age': 99}, {'name': 'Ejmpo', 'age': 5}, {'name': 'Xksr', 'age': 45}, {'name': 'Pusoo', 'age': 25}, {'name': 'Op', 'age': 9}, {'name': 'Xnk', 'age': 93}, {'name': 'Bzrgf', 'age': 47}, {'name': 'Pfr', 'age': 59}, {'name': 'Mu', 'age': 31}, {'name': 'Zddi', 'age': 75}, {'name': 'Zjvp', 'age': 98}, {'name': 'Reqs', 'age': 45}, {'name': 'Auwd', 'age': 61}, {'name': 'Nd', 'age': 99}, {'name': 'Ym', 'age': 41}]\n"
          ],
          "name": "stdout"
        }
      ]
    }
  ]
}