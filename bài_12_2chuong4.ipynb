{
  "nbformat": 4,
  "nbformat_minor": 0,
  "metadata": {
    "colab": {
      "name": "bài 12-2chuong4.ipynb",
      "provenance": [],
      "authorship_tag": "ABX9TyPU5KkINvi5ZrpWtl5sUg/j",
      "include_colab_link": true
    },
    "kernelspec": {
      "name": "python3",
      "display_name": "Python 3"
    }
  },
  "cells": [
    {
      "cell_type": "markdown",
      "metadata": {
        "id": "view-in-github",
        "colab_type": "text"
      },
      "source": [
        "<a href=\"https://colab.research.google.com/github/thanhlamnguyen/lam/blob/main/b%C3%A0i_12_2chuong4.ipynb\" target=\"_parent\"><img src=\"https://colab.research.google.com/assets/colab-badge.svg\" alt=\"Open In Colab\"/></a>"
      ]
    },
    {
      "cell_type": "code",
      "metadata": {
        "colab": {
          "base_uri": "https://localhost:8080/"
        },
        "id": "5FGzvBfghHPn",
        "outputId": "7508e074-9d1e-4366-d6b5-ac64a360b112"
      },
      "source": [
        "import random,string\n",
        "e=random.randint(2, 15)\n",
        "letters = string.ascii_uppercase \n",
        "a = ''.join(random.choice(letters) for i in range(e))\n",
        "b=random.randint(0, 100)\n",
        "dir={'name': a,'age': b }\n",
        "print(\"dictionary= \",dir)\n"
      ],
      "execution_count": 1,
      "outputs": [
        {
          "output_type": "stream",
          "text": [
            "dictionary=  {'name': 'RHWLAHOKSZT', 'age': 23}\n"
          ],
          "name": "stdout"
        }
      ]
    }
  ]
}