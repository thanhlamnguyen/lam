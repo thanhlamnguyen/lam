{
  "nbformat": 4,
  "nbformat_minor": 0,
  "metadata": {
    "colab": {
      "name": "thap_ha_noi.ipynb",
      "provenance": [],
      "collapsed_sections": [],
      "authorship_tag": "ABX9TyPCfHzjUQUEt9TpbEBcdvCf",
      "include_colab_link": true
    },
    "kernelspec": {
      "name": "python3",
      "display_name": "Python 3"
    },
    "language_info": {
      "name": "python"
    }
  },
  "cells": [
    {
      "cell_type": "markdown",
      "metadata": {
        "id": "view-in-github",
        "colab_type": "text"
      },
      "source": [
        "<a href=\"https://colab.research.google.com/github/thanhlamnguyen/lam/blob/main/thap_ha_noi.ipynb\" target=\"_parent\"><img src=\"https://colab.research.google.com/assets/colab-badge.svg\" alt=\"Open In Colab\"/></a>"
      ]
    },
    {
      "cell_type": "code",
      "metadata": {
        "colab": {
          "base_uri": "https://localhost:8080/"
        },
        "id": "KlIJW9VxSlgD",
        "outputId": "9a88fb7c-5212-49b4-dd9f-06e82f429d7d"
      },
      "source": [
        "def thapHaNoi(n, ToaMot, ToaHai, ToaBa):\n",
        "\n",
        "  if n == 1:\n",
        "      print(\"Chuyen tu\", ToaMot, \"sang\", ToaBa)\n",
        "  else:\n",
        "      thapHaNoi(n-1, ToaMot, ToaBa, ToaHai)\n",
        "      print(\"Chuyen tu\", ToaMot, \"sang\", ToaBa)\n",
        "      thapHaNoi(n-1, ToaHai, ToaMot, ToaBa)\n",
        "\n",
        "thapHaNoi(2,'A','B','C')"
      ],
      "execution_count": 1,
      "outputs": [
        {
          "output_type": "stream",
          "text": [
            "Chuyen tu A sang B\n",
            "Chuyen tu A sang C\n",
            "Chuyen tu B sang C\n"
          ],
          "name": "stdout"
        }
      ]
    }
  ]
}