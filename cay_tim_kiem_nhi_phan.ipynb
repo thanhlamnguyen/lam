{
  "nbformat": 4,
  "nbformat_minor": 0,
  "metadata": {
    "colab": {
      "name": "cay_tim_kiem_nhi_phan.ipynb",
      "provenance": [],
      "authorship_tag": "ABX9TyOLzFsDe2KwV61vW9js1nGL",
      "include_colab_link": true
    },
    "kernelspec": {
      "name": "python3",
      "display_name": "Python 3"
    },
    "language_info": {
      "name": "python"
    }
  },
  "cells": [
    {
      "cell_type": "markdown",
      "metadata": {
        "id": "view-in-github",
        "colab_type": "text"
      },
      "source": [
        "<a href=\"https://colab.research.google.com/github/thanhlamnguyen/lam/blob/main/cay_tim_kiem_nhi_phan.ipynb\" target=\"_parent\"><img src=\"https://colab.research.google.com/assets/colab-badge.svg\" alt=\"Open In Colab\"/></a>"
      ]
    },
    {
      "cell_type": "code",
      "metadata": {
        "colab": {
          "base_uri": "https://localhost:8080/"
        },
        "id": "KP8z9gVWMexx",
        "outputId": "4902d758-8713-4a88-9d20-15159e765321"
      },
      "source": [
        "pip install binarytree"
      ],
      "execution_count": 20,
      "outputs": [
        {
          "output_type": "stream",
          "text": [
            "Requirement already satisfied: binarytree in /usr/local/lib/python3.7/dist-packages (6.3.0)\n",
            "Requirement already satisfied: setuptools-scm[toml]>=3.4 in /usr/local/lib/python3.7/dist-packages (from binarytree) (6.0.1)\n",
            "Requirement already satisfied: graphviz in /usr/local/lib/python3.7/dist-packages (from binarytree) (0.10.1)\n",
            "Requirement already satisfied: setuptools>=42 in /usr/local/lib/python3.7/dist-packages (from binarytree) (54.1.2)\n",
            "Requirement already satisfied: toml; extra == \"toml\" in /usr/local/lib/python3.7/dist-packages (from setuptools-scm[toml]>=3.4->binarytree) (0.10.2)\n"
          ],
          "name": "stdout"
        }
      ]
    },
    {
      "cell_type": "code",
      "metadata": {
        "colab": {
          "base_uri": "https://localhost:8080/"
        },
        "id": "jUW-1_d4Cxt_",
        "outputId": "b09bd0af-469a-4ab4-9232-10e76c358a28"
      },
      "source": [
        "#bên trái con nhỏ hơn cha\n",
        "#bên phải con lớn hơn cha\n",
        "from binarytree import Node\n",
        "\n",
        " \n",
        "r = Node(20)\n",
        "r = insert(r, 12)\n",
        "r = insert(r, 8)\n",
        "r = insert(r, 15)\n",
        "r = insert(r, 30)\n",
        "r = insert(r, 25)\n",
        "r = insert(r, 37)\n",
        " \n",
        "# Print inoder traversal of the BST\n",
        "\n",
        "print(r)\n",
        "\n"
      ],
      "execution_count": 23,
      "outputs": [
        {
          "output_type": "stream",
          "text": [
            "\n",
            "    ____20___\n",
            "   /         \\\n",
            "  12         _30\n",
            " /  \\       /   \\\n",
            "8    15    25    37\n",
            "\n"
          ],
          "name": "stdout"
        }
      ]
    },
    {
      "cell_type": "code",
      "metadata": {
        "colab": {
          "base_uri": "https://localhost:8080/"
        },
        "id": "zNMFD_cNPzKx",
        "outputId": "d3a61156-868b-41e0-fb64-e0a75443a0cf"
      },
      "source": [
        "from binarytree import Node\n",
        "r = Node(20)\n",
        "r = insert(r, 12)\n",
        "r = insert(r, 8)\n",
        "r = insert(r, 15)\n",
        "r = insert(r, 30)\n",
        "r = insert(r, 25)\n",
        "r = insert(r, 37)\n",
        "print(r)"
      ],
      "execution_count": 19,
      "outputs": [
        {
          "output_type": "stream",
          "text": [
            "\n",
            "    ____20___\n",
            "   /         \\\n",
            "  12         _30\n",
            " /  \\       /   \\\n",
            "8    15    25    37\n",
            "\n"
          ],
          "name": "stdout"
        }
      ]
    }
  ]
}