{
  "nbformat": 4,
  "nbformat_minor": 0,
  "metadata": {
    "kernelspec": {
      "display_name": "Python 3",
      "language": "python",
      "name": "python3"
    },
    "language_info": {
      "codemirror_mode": {
        "name": "ipython",
        "version": 3
      },
      "file_extension": ".py",
      "mimetype": "text/x-python",
      "name": "python",
      "nbconvert_exporter": "python",
      "pygments_lexer": "ipython3",
      "version": "3.7.3"
    },
    "colab": {
      "name": "bai-tap-pandas-series.ipynb",
      "provenance": [],
      "include_colab_link": true
    }
  },
  "cells": [
    {
      "cell_type": "markdown",
      "metadata": {
        "id": "view-in-github",
        "colab_type": "text"
      },
      "source": [
        "<a href=\"https://colab.research.google.com/github/thanhlamnguyen/lam/blob/main/bai_tap_pandas_series.ipynb\" target=\"_parent\"><img src=\"https://colab.research.google.com/assets/colab-badge.svg\" alt=\"Open In Colab\"/></a>"
      ]
    },
    {
      "cell_type": "markdown",
      "metadata": {
        "id": "MEkwAxpnR_MZ"
      },
      "source": [
        "Câu 1: Hãy tạo 1 đối tượng kiểu Series có tối thiểu 10 phần tử (kiểu số) với giá trị tùy ý thích của bạn. \n",
        "       In giá trị của Series đó ra màn hình"
      ]
    },
    {
      "cell_type": "code",
      "metadata": {
        "colab": {
          "base_uri": "https://localhost:8080/"
        },
        "id": "bWZHDAOtR_Mm",
        "outputId": "78527d71-b977-4b71-852d-2f2ecb399e78"
      },
      "source": [
        "import pandas as pd\r\n",
        "\r\n",
        "mynumber = [1, 7, 2, 5, 9, 10, 20, 30, 69, 8]\r\n",
        "a = pd.Series(mynumber)\r\n",
        "print(a)"
      ],
      "execution_count": 10,
      "outputs": [
        {
          "output_type": "stream",
          "text": [
            "0     1\n",
            "1     7\n",
            "2     2\n",
            "3     5\n",
            "4     9\n",
            "5    10\n",
            "6    20\n",
            "7    30\n",
            "8    69\n",
            "9     8\n",
            "dtype: int64\n"
          ],
          "name": "stdout"
        }
      ]
    },
    {
      "cell_type": "markdown",
      "metadata": {
        "id": "oQuuin1yR_Mn"
      },
      "source": [
        "Câu 2: Hãy tạo 1 đối tượng kiểu Series với giá trị khởi tạo hình thành từ dữ liệu kiểu Dictionary. In kết quả ra màn hình"
      ]
    },
    {
      "cell_type": "code",
      "metadata": {
        "colab": {
          "base_uri": "https://localhost:8080/"
        },
        "id": "g1RE9iUkR_Mo",
        "outputId": "272c1878-7d69-4d62-9259-66412dd75662"
      },
      "source": [
        "data = { \"Basketball\":1, \"Baseball\":2, \"Soccer\":3, \"Tennis\":4, \"Volleyball\":5}\r\n",
        "series = pd.Series(data, index=[\"Basketball\", \"Baseball\", \"Soccer\", \"Tennis\", \"Volleyball\"])\r\n",
        "print(series)"
      ],
      "execution_count": 7,
      "outputs": [
        {
          "output_type": "stream",
          "text": [
            "Basketball    1\n",
            "Baseball      2\n",
            "Soccer        3\n",
            "Tennis        4\n",
            "Volleyball    5\n",
            "dtype: int64\n"
          ],
          "name": "stdout"
        }
      ]
    },
    {
      "cell_type": "markdown",
      "metadata": {
        "id": "S9AfNZ71R_Mp"
      },
      "source": [
        "Câu 3: Sử dụng series ở câu 1, hãy thay đổi giá trị của cột index từ kiểu số theo kiểu ký tự với giá trị do bạn tự xác định."
      ]
    },
    {
      "cell_type": "code",
      "metadata": {
        "colab": {
          "base_uri": "https://localhost:8080/"
        },
        "id": "9PS0JNYQR_Mp",
        "outputId": "67b8b5e6-23aa-4a26-f1f4-9c5f69719d50"
      },
      "source": [
        "yournumber = pd.Series(mynumber, index=['a12', 'a23', 'a21', 'b22', 'b41', 'b53', 'c11', 'c61', 'c22', 'c43'])\r\n",
        "print(yournumber)"
      ],
      "execution_count": 21,
      "outputs": [
        {
          "output_type": "stream",
          "text": [
            "a12     1\n",
            "a23     7\n",
            "a21     2\n",
            "b22     5\n",
            "b41     9\n",
            "b53    10\n",
            "c11    20\n",
            "c61    30\n",
            "c22    69\n",
            "c43     8\n",
            "dtype: int64\n"
          ],
          "name": "stdout"
        }
      ]
    },
    {
      "cell_type": "markdown",
      "metadata": {
        "id": "YEOFOCcUR_Mq"
      },
      "source": [
        "Câu 4: Sử dụng series ở câu 2, hãy truy cập đến phần tử thứ 5 và in ra màn hình"
      ]
    },
    {
      "cell_type": "code",
      "metadata": {
        "colab": {
          "base_uri": "https://localhost:8080/"
        },
        "id": "whZCbvoLlM2x",
        "outputId": "ee99453c-f5cc-4bed-a9d4-840e3d83bfba"
      },
      "source": [
        "print(series[4])"
      ],
      "execution_count": 24,
      "outputs": [
        {
          "output_type": "stream",
          "text": [
            "5\n"
          ],
          "name": "stdout"
        }
      ]
    },
    {
      "cell_type": "markdown",
      "metadata": {
        "id": "-2Ddmch0R_Mr"
      },
      "source": [
        "Câu 5: Sử dụng series ở câu 3, hãy truy cập đến 1 phần tử dựa theo chỉ số kiểu ký tự do bạn lựa chọn và in ra màn hình"
      ]
    },
    {
      "cell_type": "code",
      "metadata": {
        "colab": {
          "base_uri": "https://localhost:8080/"
        },
        "id": "hfRIIaRbR_Ms",
        "outputId": "983f3937-b072-40f1-c561-f30e9bafcf83"
      },
      "source": [
        "print(yournumber['c61'])"
      ],
      "execution_count": 25,
      "outputs": [
        {
          "output_type": "stream",
          "text": [
            "30\n"
          ],
          "name": "stdout"
        }
      ]
    },
    {
      "cell_type": "markdown",
      "metadata": {
        "id": "9vs-KFgkR_Ms"
      },
      "source": [
        "Câu 6: Sử dụng series ở câu 3, hãy tìm ra tính chất đặc thù trong các chỉ số kiểu kí tự, thực hiện vòng lặp for duyệt trên các chỉ mục kiểu kí tự này để lọc ra những phần tử thỏa mãn điều kiện và in ra màn hình"
      ]
    },
    {
      "cell_type": "code",
      "metadata": {
        "colab": {
          "base_uri": "https://localhost:8080/"
        },
        "id": "Y4O84M8oR_Mt",
        "outputId": "b863ef1f-0723-485f-e163-6c43a6c662af"
      },
      "source": [
        "print(yournumber[[name.startswith('c') and name.endswith('1') for name in yournumber.index ]])"
      ],
      "execution_count": 33,
      "outputs": [
        {
          "output_type": "stream",
          "text": [
            "c11    20\n",
            "c61    30\n",
            "dtype: int64\n"
          ],
          "name": "stdout"
        }
      ]
    },
    {
      "cell_type": "markdown",
      "metadata": {
        "id": "3lIe0-59R_Mt"
      },
      "source": [
        "Câu 7: Sử dụng series ở câu 1, hãy đổi tên cột index thành 'STT' và đặt tên cho series là 'Gia_tri'. In kết quả ra màn hình "
      ]
    },
    {
      "cell_type": "code",
      "metadata": {
        "colab": {
          "base_uri": "https://localhost:8080/"
        },
        "id": "3Ix7f0PxR_Mu",
        "outputId": "c0ee47d4-139d-4b0e-9252-e725b9e9691f"
      },
      "source": [
        "a.index.name = \"STT\"\r\n",
        "a.name = \"Gia_tri\"\r\n",
        "print(a)"
      ],
      "execution_count": 34,
      "outputs": [
        {
          "output_type": "stream",
          "text": [
            "STT\n",
            "0     1\n",
            "1     7\n",
            "2     2\n",
            "3     5\n",
            "4     9\n",
            "5    10\n",
            "6    20\n",
            "7    30\n",
            "8    69\n",
            "9     8\n",
            "Name: Gia_tri, dtype: int64\n"
          ],
          "name": "stdout"
        }
      ]
    },
    {
      "cell_type": "markdown",
      "metadata": {
        "id": "dlYWoqLJR_Mu"
      },
      "source": [
        "Câu 8: Hãy áp dụng hàm logarith của gói numpy với series ở câu 1 và in kết quả ra màn hình"
      ]
    },
    {
      "cell_type": "code",
      "metadata": {
        "colab": {
          "base_uri": "https://localhost:8080/"
        },
        "id": "Ij7CmqVpR_Mv",
        "outputId": "b66186a3-aab5-44ec-aeb0-8b76718d36b8"
      },
      "source": [
        "import numpy as np\r\n",
        "np.log(a)"
      ],
      "execution_count": 35,
      "outputs": [
        {
          "output_type": "execute_result",
          "data": {
            "text/plain": [
              "STT\n",
              "0    0.000000\n",
              "1    1.945910\n",
              "2    0.693147\n",
              "3    1.609438\n",
              "4    2.197225\n",
              "5    2.302585\n",
              "6    2.995732\n",
              "7    3.401197\n",
              "8    4.234107\n",
              "9    2.079442\n",
              "Name: Gia_tri, dtype: float64"
            ]
          },
          "metadata": {
            "tags": []
          },
          "execution_count": 35
        }
      ]
    },
    {
      "cell_type": "markdown",
      "metadata": {
        "id": "R2cEiqy-R_Mv"
      },
      "source": [
        "Câu 9: Lọc các giá trị của series 1 > 15 và in ra màn hình"
      ]
    },
    {
      "cell_type": "code",
      "metadata": {
        "colab": {
          "base_uri": "https://localhost:8080/"
        },
        "id": "eGrW_VHUR_Mw",
        "outputId": "052031fa-2670-4676-96fc-65db0e61a3ea"
      },
      "source": [
        "print(a.where(a > 15))"
      ],
      "execution_count": 37,
      "outputs": [
        {
          "output_type": "stream",
          "text": [
            "STT\n",
            "0     NaN\n",
            "1     NaN\n",
            "2     NaN\n",
            "3     NaN\n",
            "4     NaN\n",
            "5     NaN\n",
            "6    20.0\n",
            "7    30.0\n",
            "8    69.0\n",
            "9     NaN\n",
            "Name: Gia_tri, dtype: float64\n"
          ],
          "name": "stdout"
        }
      ]
    }
  ]
}