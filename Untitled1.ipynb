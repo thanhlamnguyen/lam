{
  "nbformat": 4,
  "nbformat_minor": 0,
  "metadata": {
    "colab": {
      "name": "Untitled1.ipynb",
      "provenance": [],
      "authorship_tag": "ABX9TyMdvri6lxjTASNHvaVgpmFa",
      "include_colab_link": true
    },
    "kernelspec": {
      "name": "python3",
      "display_name": "Python 3"
    }
  },
  "cells": [
    {
      "cell_type": "markdown",
      "metadata": {
        "id": "view-in-github",
        "colab_type": "text"
      },
      "source": [
        "<a href=\"https://colab.research.google.com/github/thanhlamnguyen/lam/blob/main/Untitled1.ipynb\" target=\"_parent\"><img src=\"https://colab.research.google.com/assets/colab-badge.svg\" alt=\"Open In Colab\"/></a>"
      ]
    },
    {
      "cell_type": "markdown",
      "metadata": {
        "id": "IWEkxPGFDAJU"
      },
      "source": [
        "Bai 6 chuong 4"
      ]
    },
    {
      "cell_type": "code",
      "metadata": {
        "id": "X6zSK1nYC_A-"
      },
      "source": [
        "import numpy as np\n",
        "n= int(input(\"số phần tử của list=\"))\n",
        "rd= np.random.random_sample(size = n)*4000000-3000000\n",
        "print(\"list =\",rd)\n",
        "max = rd[1]\n",
        "for x in rd :\n",
        "     if x > max :\n",
        "        max = x\n",
        "print(\"giá trị lớn nhất của list =\",max)"
      ],
      "execution_count": null,
      "outputs": []
    }
  ]
}