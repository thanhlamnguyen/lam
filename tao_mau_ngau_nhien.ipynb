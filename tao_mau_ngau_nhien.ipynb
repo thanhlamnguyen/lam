{
  "nbformat": 4,
  "nbformat_minor": 0,
  "metadata": {
    "colab": {
      "name": "tao_mau_ngau_nhien.ipynb",
      "provenance": [],
      "collapsed_sections": [],
      "authorship_tag": "ABX9TyOi46dvKVsB7FZ7lrIFiHnc",
      "include_colab_link": true
    },
    "kernelspec": {
      "name": "python3",
      "display_name": "Python 3"
    }
  },
  "cells": [
    {
      "cell_type": "markdown",
      "metadata": {
        "id": "view-in-github",
        "colab_type": "text"
      },
      "source": [
        "<a href=\"https://colab.research.google.com/github/thanhlamnguyen/lam/blob/main/tao_mau_ngau_nhien.ipynb\" target=\"_parent\"><img src=\"https://colab.research.google.com/assets/colab-badge.svg\" alt=\"Open In Colab\"/></a>"
      ]
    },
    {
      "cell_type": "code",
      "metadata": {
        "id": "qoUqR3dlYxyI"
      },
      "source": [
        "import numpy as np\r\n",
        "import pandas as pd\r\n",
        "import csv\r\n",
        "\r\n"
      ],
      "execution_count": 4,
      "outputs": []
    },
    {
      "cell_type": "code",
      "metadata": {
        "colab": {
          "base_uri": "https://localhost:8080/"
        },
        "id": "XPxv3v6Sa-Vn",
        "outputId": "0b6c87e0-d946-4bae-fa9b-f59ba30c9ba4"
      },
      "source": [
        "sv = pd.read_csv('danhsachsinhvien.csv')\r\n",
        "print(sv)"
      ],
      "execution_count": 6,
      "outputs": [
        {
          "output_type": "stream",
          "text": [
            "    STT     Ho va ten\n",
            "0     1  Nguyen Van A\n",
            "1     2      Le Van B\n",
            "2     3     Ngo Thi C\n",
            "3     4     Lam Van D\n",
            "4     5  Nguyen Van A\n",
            "5     6      Le Van B\n",
            "6     7     Ngo Thi C\n",
            "7     8     Lam Van D\n",
            "8     9  Nguyen Van A\n",
            "9    10      Le Van B\n",
            "10   11  Nguyen Van A\n",
            "11   12      Le Van B\n",
            "12   13     Ngo Thi C\n",
            "13   14     Lam Van D\n",
            "14   15  Nguyen Van A\n",
            "15   16      Le Van B\n",
            "16   17     Ngo Thi C\n",
            "17   18     Lam Van D\n",
            "18   19  Nguyen Van A\n",
            "19   20      Le Van B\n",
            "20   21  Nguyen Van A\n",
            "21   22      Le Van B\n",
            "22   23     Ngo Thi C\n",
            "23   24     Lam Van D\n",
            "24   25  Nguyen Van A\n",
            "25   26      Le Van B\n",
            "26   27     Ngo Thi C\n",
            "27   28     Lam Van D\n",
            "28   29  Nguyen Van A\n",
            "29   30      Le Van B\n",
            "30   31  Nguyen Van A\n",
            "31   32      Le Van B\n",
            "32   33     Ngo Thi C\n",
            "33   34     Lam Van D\n"
          ],
          "name": "stdout"
        }
      ]
    },
    {
      "cell_type": "markdown",
      "metadata": {
        "id": "2byM_JAgbLMl"
      },
      "source": [
        "Chọn ngẫu nhiên 7 sinh viên trong danh sách"
      ]
    },
    {
      "cell_type": "code",
      "metadata": {
        "colab": {
          "base_uri": "https://localhost:8080/"
        },
        "id": "vbDnbbTebQF8",
        "outputId": "9f0f6f0f-31d9-4d44-ef99-b27c344280ec"
      },
      "source": [
        "lucky_sv = sv.sample(n=7)\r\n",
        "print(lucky_sv)"
      ],
      "execution_count": 8,
      "outputs": [
        {
          "output_type": "stream",
          "text": [
            "    STT     Ho va ten\n",
            "4     5  Nguyen Van A\n",
            "12   13     Ngo Thi C\n",
            "26   27     Ngo Thi C\n",
            "8     9  Nguyen Van A\n",
            "11   12      Le Van B\n",
            "29   30      Le Van B\n",
            "28   29  Nguyen Van A\n"
          ],
          "name": "stdout"
        }
      ]
    },
    {
      "cell_type": "markdown",
      "metadata": {
        "id": "MOIa6Oh7b3fS"
      },
      "source": [
        "Lưu danh sách 7 sinh viên ngẫu nhiên vào một file csv mới"
      ]
    },
    {
      "cell_type": "code",
      "metadata": {
        "colab": {
          "base_uri": "https://localhost:8080/"
        },
        "id": "EOeCpb-4cDI8",
        "outputId": "c0aaacb5-d7d2-46c7-ded1-c1aa5c239d05"
      },
      "source": [
        "a = lucky_sv.to_csv('sinh_vien_may_man.csv')\r\n",
        "print(a)"
      ],
      "execution_count": 19,
      "outputs": [
        {
          "output_type": "stream",
          "text": [
            "None\n"
          ],
          "name": "stdout"
        }
      ]
    }
  ]
}