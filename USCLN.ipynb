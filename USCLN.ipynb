{
  "nbformat": 4,
  "nbformat_minor": 0,
  "metadata": {
    "colab": {
      "name": "USCLN.ipynb",
      "provenance": [],
      "authorship_tag": "ABX9TyOSos4J82SF3KSuy5g2hin/",
      "include_colab_link": true
    },
    "kernelspec": {
      "name": "python3",
      "display_name": "Python 3"
    },
    "language_info": {
      "name": "python"
    }
  },
  "cells": [
    {
      "cell_type": "markdown",
      "metadata": {
        "id": "view-in-github",
        "colab_type": "text"
      },
      "source": [
        "<a href=\"https://colab.research.google.com/github/thanhlamnguyen/lam/blob/main/USCLN.ipynb\" target=\"_parent\"><img src=\"https://colab.research.google.com/assets/colab-badge.svg\" alt=\"Open In Colab\"/></a>"
      ]
    },
    {
      "cell_type": "code",
      "metadata": {
        "colab": {
          "base_uri": "https://localhost:8080/"
        },
        "id": "qJ64rkHGTFdE",
        "outputId": "00766e04-8d96-48fe-c2d9-04519777efc1"
      },
      "source": [
        "def uscln(a,b):\n",
        "    if (b == 0):\n",
        "        return a;\n",
        "    return uscln(b, a%b);\n",
        "\n",
        "a = int(input(\"Nhap so nguyen duong a =\"));\n",
        "b = int(input(\"Nhap so nguyen duong b =\"));\n",
        "print(\"Ước số chung lớn nhất của\", a, \"và\", b, \"là:\",uscln(a,b));"
      ],
      "execution_count": 1,
      "outputs": [
        {
          "output_type": "stream",
          "text": [
            "Nhap so nguyen duong a =2\n",
            "Nhap so nguyen duong b =4\n",
            "Ước số chung lớn nhất của 2 và 4 là: 2\n"
          ],
          "name": "stdout"
        }
      ]
    }
  ]
}