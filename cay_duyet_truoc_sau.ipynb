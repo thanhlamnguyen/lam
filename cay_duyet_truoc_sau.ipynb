{
  "nbformat": 4,
  "nbformat_minor": 0,
  "metadata": {
    "colab": {
      "name": "cay_duyet_truoc_sau.ipynb",
      "provenance": [],
      "authorship_tag": "ABX9TyMiJucG0W8UOY19yLHadQDO",
      "include_colab_link": true
    },
    "kernelspec": {
      "name": "python3",
      "display_name": "Python 3"
    },
    "language_info": {
      "name": "python"
    }
  },
  "cells": [
    {
      "cell_type": "markdown",
      "metadata": {
        "id": "view-in-github",
        "colab_type": "text"
      },
      "source": [
        "<a href=\"https://colab.research.google.com/github/thanhlamnguyen/lam/blob/main/cay_duyet_truoc_sau.ipynb\" target=\"_parent\"><img src=\"https://colab.research.google.com/assets/colab-badge.svg\" alt=\"Open In Colab\"/></a>"
      ]
    },
    {
      "cell_type": "code",
      "metadata": {
        "colab": {
          "base_uri": "https://localhost:8080/"
        },
        "id": "qpJjh2PdddP4",
        "outputId": "ae81ded6-8fbc-4c40-ba47-b16c49e8b6d4"
      },
      "source": [
        "pip install binarytree"
      ],
      "execution_count": 3,
      "outputs": [
        {
          "output_type": "stream",
          "text": [
            "Collecting binarytree\n",
            "  Downloading https://files.pythonhosted.org/packages/df/01/0a932b539beb7fee36289f72fde5486ed49d73c0c24271a4eaab3e73084e/binarytree-6.3.0-py3-none-any.whl\n",
            "Requirement already satisfied: graphviz in /usr/local/lib/python3.7/dist-packages (from binarytree) (0.10.1)\n",
            "Collecting setuptools-scm[toml]>=3.4\n",
            "  Downloading https://files.pythonhosted.org/packages/c4/d5/e50358c82026f44cd8810c8165002746cd3f8b78865f6bcf5d7f0fe4f652/setuptools_scm-6.0.1-py3-none-any.whl\n",
            "Requirement already satisfied: setuptools>=42 in /usr/local/lib/python3.7/dist-packages (from binarytree) (56.0.0)\n",
            "Requirement already satisfied: toml; extra == \"toml\" in /usr/local/lib/python3.7/dist-packages (from setuptools-scm[toml]>=3.4->binarytree) (0.10.2)\n",
            "Installing collected packages: setuptools-scm, binarytree\n",
            "Successfully installed binarytree-6.3.0 setuptools-scm-6.0.1\n"
          ],
          "name": "stdout"
        }
      ]
    },
    {
      "cell_type": "code",
      "metadata": {
        "colab": {
          "base_uri": "https://localhost:8080/"
        },
        "id": "4ZMASVlFc2Ss",
        "outputId": "ebafb234-ae9e-499d-e47b-7a1fb341ffe5"
      },
      "source": [
        "from binarytree import build\n",
        "values = [7, 3, 2, 6, 9, None, 1, 5, 8]\n",
        "root = build(values)\n",
        "print(root)\n",
        "print(root.preorder) # duyệt cây theo thứ tự trước\n",
        "print(root.postorder) # duyệt cây theo thứ tự sau"
      ],
      "execution_count": 4,
      "outputs": [
        {
          "output_type": "stream",
          "text": [
            "\n",
            "        __7\n",
            "       /   \\\n",
            "    __3     2\n",
            "   /   \\     \\\n",
            "  6     9     1\n",
            " / \\\n",
            "5   8\n",
            "\n",
            "[Node(7), Node(3), Node(6), Node(5), Node(8), Node(9), Node(2), Node(1)]\n",
            "[Node(5), Node(8), Node(6), Node(9), Node(3), Node(1), Node(2), Node(7)]\n"
          ],
          "name": "stdout"
        }
      ]
    }
  ]
}