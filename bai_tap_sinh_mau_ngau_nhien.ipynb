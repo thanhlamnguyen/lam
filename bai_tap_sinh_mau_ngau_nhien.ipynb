{
  "nbformat": 4,
  "nbformat_minor": 0,
  "metadata": {
    "kernelspec": {
      "display_name": "Python 3",
      "language": "python",
      "name": "python3"
    },
    "language_info": {
      "codemirror_mode": {
        "name": "ipython",
        "version": 3
      },
      "file_extension": ".py",
      "mimetype": "text/x-python",
      "name": "python",
      "nbconvert_exporter": "python",
      "pygments_lexer": "ipython3",
      "version": "3.7.3"
    },
    "colab": {
      "name": "bai-tap-sinh-mau-ngau-nhien.ipynb",
      "provenance": [],
      "include_colab_link": true
    }
  },
  "cells": [
    {
      "cell_type": "markdown",
      "metadata": {
        "id": "view-in-github",
        "colab_type": "text"
      },
      "source": [
        "<a href=\"https://colab.research.google.com/github/thanhlamnguyen/lam/blob/main/bai_tap_sinh_mau_ngau_nhien.ipynb\" target=\"_parent\"><img src=\"https://colab.research.google.com/assets/colab-badge.svg\" alt=\"Open In Colab\"/></a>"
      ]
    },
    {
      "cell_type": "markdown",
      "metadata": {
        "id": "2XnAxWrlVQ1h"
      },
      "source": [
        "Sử dụng thư viện Numpy\n",
        "\n",
        "1. Sinh mẫu ngẫu nhiên bằng hàm arange trong khoảng [-15, 27] với khoảng cách là 0.7 và in kết quả ra màn hình"
      ]
    },
    {
      "cell_type": "code",
      "metadata": {
        "id": "GTc3dGkCVQ1m"
      },
      "source": [
        "import numpy as np"
      ],
      "execution_count": 1,
      "outputs": []
    },
    {
      "cell_type": "code",
      "metadata": {
        "id": "B95sHpTaWkOT",
        "outputId": "b1909115-3676-4287-f327-cbfa0c93a2c0",
        "colab": {
          "base_uri": "https://localhost:8080/"
        }
      },
      "source": [
        "a = np.arange(-15, 27, 0.7, dtype=None)\n",
        "print(a)"
      ],
      "execution_count": 6,
      "outputs": [
        {
          "output_type": "stream",
          "text": [
            "[-15.  -14.3 -13.6 -12.9 -12.2 -11.5 -10.8 -10.1  -9.4  -8.7  -8.   -7.3\n",
            "  -6.6  -5.9  -5.2  -4.5  -3.8  -3.1  -2.4  -1.7  -1.   -0.3   0.4   1.1\n",
            "   1.8   2.5   3.2   3.9   4.6   5.3   6.    6.7   7.4   8.1   8.8   9.5\n",
            "  10.2  10.9  11.6  12.3  13.   13.7  14.4  15.1  15.8  16.5  17.2  17.9\n",
            "  18.6  19.3  20.   20.7  21.4  22.1  22.8  23.5  24.2  24.9  25.6  26.3\n",
            "  27. ]\n"
          ],
          "name": "stdout"
        }
      ]
    },
    {
      "cell_type": "markdown",
      "metadata": {
        "id": "s1ruSUYDVQ1n"
      },
      "source": [
        "2. Sinh mẫu ngẫu nhiên theo phân phối chuẩn với mean = 2.7 std = 1.2 và size = 40\n",
        "In kết quả ra màn hình"
      ]
    },
    {
      "cell_type": "code",
      "metadata": {
        "id": "DbhrdGvjVQ1n",
        "outputId": "b9b57c87-0865-44de-a213-43a6e56dbfa5",
        "colab": {
          "base_uri": "https://localhost:8080/"
        }
      },
      "source": [
        "mean = 2.7\n",
        "std = 1.2\n",
        "size = 40\n",
        "b = np.random.normal(2.7, 1.2, 40)\n",
        "print(b)"
      ],
      "execution_count": 5,
      "outputs": [
        {
          "output_type": "stream",
          "text": [
            "[ 4.12063182  3.43638037  3.45226956  2.65846202  4.57343233  2.16843113\n",
            "  2.84607021  1.08131755  2.3913193   0.36873811  0.5184053   2.88908566\n",
            "  0.69554458  2.29109956  2.25799581  3.80813678  1.91642909  2.38247601\n",
            "  3.45928231  4.47111304  2.35031621  2.02521397  3.50769265  2.39142121\n",
            " -0.91296898  2.96785316  2.04271175  3.45831171  2.62403331  3.20369988\n",
            "  0.92238636  0.34088458  1.82933241  4.34111778  1.53200573  2.33053117\n",
            "  2.61659796  2.17001485  1.7323755   2.11487632]\n"
          ],
          "name": "stdout"
        }
      ]
    },
    {
      "cell_type": "markdown",
      "metadata": {
        "id": "HZoN-oHBVQ1o"
      },
      "source": [
        "3. Sinh mẫu ngẫu nhiên từ vector ['Viet Nam', 'Britain', 'France', 'Russia', 'Singapore'] \n",
        "\n",
        "với kích thước là 17 theo phân phối chuẩn"
      ]
    },
    {
      "cell_type": "code",
      "metadata": {
        "id": "NL_XIdCGVQ1o",
        "outputId": "46a5c547-8d3c-4511-9a99-f2142b1bfa04",
        "colab": {
          "base_uri": "https://localhost:8080/"
        }
      },
      "source": [
        "c = np.random.choice(['Viet Nam','Britain', 'France', 'Russia', 'Singapore' ], 17)\n",
        "print(c)"
      ],
      "execution_count": 12,
      "outputs": [
        {
          "output_type": "stream",
          "text": [
            "['France' 'Viet Nam' 'Singapore' 'Singapore' 'Russia' 'Britain'\n",
            " 'Singapore' 'Britain' 'Viet Nam' 'Singapore' 'Britain' 'Singapore'\n",
            " 'France' 'Britain' 'France' 'Singapore' 'Viet Nam']\n"
          ],
          "name": "stdout"
        }
      ]
    },
    {
      "cell_type": "markdown",
      "metadata": {
        "id": "OvlOI-x-VQ1o"
      },
      "source": [
        "4. Sinh mẫu ngẫu nhiên ở câu 3 nhưng không theo phân phối chuẩn mà theo 1 vector đặc tả giá trị xác suất do bạn chọn"
      ]
    },
    {
      "cell_type": "code",
      "metadata": {
        "id": "Txm5ynnhVQ1p",
        "outputId": "a596647a-455e-436a-ef3c-927ba266ec04",
        "colab": {
          "base_uri": "https://localhost:8080/"
        }
      },
      "source": [
        "d = np.random.choice(['Viet Nam','Britain', 'France', 'Russia', 'Singapore'], 6 , p = [0.1, 0.1, 0.3, 0.3, 0.2])\n",
        "print(d)"
      ],
      "execution_count": 17,
      "outputs": [
        {
          "output_type": "stream",
          "text": [
            "['France' 'Singapore' 'Russia' 'Singapore' 'Russia' 'France']\n"
          ],
          "name": "stdout"
        }
      ]
    },
    {
      "cell_type": "markdown",
      "metadata": {
        "id": "s3relc9-VQ1p"
      },
      "source": [
        "Sử dụng thư việc scipy.stats để sinh mẫu ngẫu nhiên\n",
        "\n",
        "1. Sinh mẫu ngẫu nhiên theo phân phối chuẩn với mean = 12.7, std = 2.6 và size = 30. In kết quả ra màn hình"
      ]
    },
    {
      "cell_type": "code",
      "metadata": {
        "id": "yZD70pA-VQ1p"
      },
      "source": [
        "import scipy.stats as st"
      ],
      "execution_count": 18,
      "outputs": []
    },
    {
      "cell_type": "code",
      "metadata": {
        "id": "AFNvV_7acYx6",
        "outputId": "7756fa9f-71b9-4250-e0b2-5959c6a2c189",
        "colab": {
          "base_uri": "https://localhost:8080/"
        }
      },
      "source": [
        "e = st.norm.rvs(loc = 12.7, scale = 2.6, size = 30)\n",
        "print(e)"
      ],
      "execution_count": 19,
      "outputs": [
        {
          "output_type": "stream",
          "text": [
            "[11.42153926 15.50802925 12.92345875 14.78401322 17.08224944 17.87116923\n",
            " 14.42751849 11.37787799 10.63057885 13.74542886 14.45029987 11.99644503\n",
            " 14.95000174 11.63614901 13.74063059 12.01535167  7.60195703 11.6437231\n",
            " 12.43604065 10.860367    8.30291601 14.10002018  9.40700018 14.34330846\n",
            "  9.15380585 13.30189245 11.35930633 10.87529413  9.76687569 16.17318084]\n"
          ],
          "name": "stdout"
        }
      ]
    },
    {
      "cell_type": "markdown",
      "metadata": {
        "id": "W2rVlK_aVQ1q"
      },
      "source": [
        "2. Hãy sinh một mẫu ngẫu nhiên theo phân phối Poisson"
      ]
    },
    {
      "cell_type": "code",
      "metadata": {
        "id": "NEDtKe6sVQ1q",
        "outputId": "d163db4d-da79-4d1b-bab6-3fbe8927f0b7",
        "colab": {
          "base_uri": "https://localhost:8080/"
        }
      },
      "source": [
        "f= st.poisson.rvs(loc=12.7, mu=2.6, size=30)\n",
        "print(f)"
      ],
      "execution_count": 20,
      "outputs": [
        {
          "output_type": "stream",
          "text": [
            "[16 17 13 15 14 15 19 14 15 14 14 14 16 13 17 13 14 16 12 13 15 15 16 13\n",
            " 16 15 13 13 14 16]\n"
          ],
          "name": "stdout"
        }
      ]
    },
    {
      "cell_type": "code",
      "metadata": {
        "id": "8JW06eEkVQ1q"
      },
      "source": [
        ""
      ],
      "execution_count": null,
      "outputs": []
    }
  ]
}