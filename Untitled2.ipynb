{
  "nbformat": 4,
  "nbformat_minor": 0,
  "metadata": {
    "colab": {
      "name": "Untitled2.ipynb",
      "provenance": [],
      "authorship_tag": "ABX9TyM7kKapADkfVYLt5M96WwcG",
      "include_colab_link": true
    },
    "kernelspec": {
      "name": "python3",
      "display_name": "Python 3"
    }
  },
  "cells": [
    {
      "cell_type": "markdown",
      "metadata": {
        "id": "view-in-github",
        "colab_type": "text"
      },
      "source": [
        "<a href=\"https://colab.research.google.com/github/thanhlamnguyen/lam/blob/main/Untitled2.ipynb\" target=\"_parent\"><img src=\"https://colab.research.google.com/assets/colab-badge.svg\" alt=\"Open In Colab\"/></a>"
      ]
    },
    {
      "cell_type": "markdown",
      "metadata": {
        "id": "N5Gl5IfiD49I"
      },
      "source": [
        "Bai 7 chuong 4"
      ]
    },
    {
      "cell_type": "code",
      "metadata": {
        "colab": {
          "base_uri": "https://localhost:8080/"
        },
        "id": "GrqS8uO5Dy_1",
        "outputId": "cbcb210a-0362-49e1-9e69-afadede6ab60"
      },
      "source": [
        "import numpy as np\n",
        "n = int(input(\"Số phần tử của list =\"))\n",
        "rd = np.random.random_sample(size = n)*5000000-4000000\n",
        "print (\"list =\",rd)\n",
        "min = rd[1]\n",
        "for a in rd :\n",
        "    if a < min:\n",
        "        a = min\n",
        "print (\"Giá trị nhỏ nhất của list =\",min)"
      ],
      "execution_count": 1,
      "outputs": [
        {
          "output_type": "stream",
          "text": [
            "Số phần tử của list =3\n",
            "list = [-1150614.03132362 -2906475.52897712 -1766869.72225428]\n",
            "Giá trị nhỏ nhất của list = -2906475.5289771194\n"
          ],
          "name": "stdout"
        }
      ]
    }
  ]
}