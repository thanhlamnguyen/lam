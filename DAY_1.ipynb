{
  "nbformat": 4,
  "nbformat_minor": 0,
  "metadata": {
    "colab": {
      "name": "DAY 1",
      "provenance": [],
      "collapsed_sections": [],
      "authorship_tag": "ABX9TyOKu1B4dRbnOpVC2ajqgAaJ",
      "include_colab_link": true
    },
    "kernelspec": {
      "name": "python3",
      "display_name": "Python 3"
    },
    "language_info": {
      "name": "python"
    }
  },
  "cells": [
    {
      "cell_type": "markdown",
      "metadata": {
        "id": "view-in-github",
        "colab_type": "text"
      },
      "source": [
        "<a href=\"https://colab.research.google.com/github/thanhlamnguyen/lam/blob/main/DAY_1.ipynb\" target=\"_parent\"><img src=\"https://colab.research.google.com/assets/colab-badge.svg\" alt=\"Open In Colab\"/></a>"
      ]
    },
    {
      "cell_type": "markdown",
      "metadata": {
        "id": "p1IUdh_n9iaH"
      },
      "source": [
        "1. What Are Data Types?\n",
        "\n",
        "\n"
      ]
    },
    {
      "cell_type": "code",
      "metadata": {
        "colab": {
          "base_uri": "https://localhost:8080/"
        },
        "id": "OZSVwgpO9RC0",
        "outputId": "ca690571-7344-4173-b43f-512a3eb3245c"
      },
      "source": [
        "#Integer (Whole numbers _ Số nguyên)\n",
        "print(2)\n",
        "print(3)"
      ],
      "execution_count": 10,
      "outputs": [
        {
          "output_type": "stream",
          "text": [
            "2\n",
            "3\n"
          ],
          "name": "stdout"
        }
      ]
    },
    {
      "cell_type": "code",
      "metadata": {
        "colab": {
          "base_uri": "https://localhost:8080/"
        },
        "id": "1TQmpwkr956t",
        "outputId": "45793966-dbef-4d20-adc9-267fa49f622e"
      },
      "source": [
        "#Float (Decimal numbers _ Số thập phân)\n",
        "print(2.3)\n",
        "print(5.6)"
      ],
      "execution_count": 11,
      "outputs": [
        {
          "output_type": "stream",
          "text": [
            "2.3\n",
            "5.6\n"
          ],
          "name": "stdout"
        }
      ]
    },
    {
      "cell_type": "code",
      "metadata": {
        "colab": {
          "base_uri": "https://localhost:8080/"
        },
        "id": "Sm8YrY4Q-GmM",
        "outputId": "0f6ccd97-e3c7-4618-c6f3-d51e892fd661"
      },
      "source": [
        "#Boolen (True or False Values)\n",
        "print(True)\n",
        "print(False)"
      ],
      "execution_count": 12,
      "outputs": [
        {
          "output_type": "stream",
          "text": [
            "True\n",
            "False\n"
          ],
          "name": "stdout"
        }
      ]
    },
    {
      "cell_type": "code",
      "metadata": {
        "colab": {
          "base_uri": "https://localhost:8080/"
        },
        "id": "nUgdLN1s-S6v",
        "outputId": "fbd64aef-0867-4362-e0cf-17f02e7b2deb"
      },
      "source": [
        "#String (Characters within quotes)\n",
        "print(\"\")\n",
        "print(\"hiiii my names is Lam\")\n",
        "print(\"True\")"
      ],
      "execution_count": 13,
      "outputs": [
        {
          "output_type": "stream",
          "text": [
            "\n",
            "hiiii my names is Lam\n",
            "True\n"
          ],
          "name": "stdout"
        }
      ]
    },
    {
      "cell_type": "markdown",
      "metadata": {
        "id": "IWJ3pP71-2f2"
      },
      "source": [
        "1 _ EXERCISES"
      ]
    },
    {
      "cell_type": "code",
      "metadata": {
        "colab": {
          "base_uri": "https://localhost:8080/"
        },
        "id": "BZ3BCrST-zn-",
        "outputId": "23674901-64d3-4ae8-c0dc-102ae2b2b7b9"
      },
      "source": [
        "print(\"Lam_Chicken\")"
      ],
      "execution_count": 6,
      "outputs": [
        {
          "output_type": "stream",
          "text": [
            "Lam_Chicken\n"
          ],
          "name": "stdout"
        }
      ]
    },
    {
      "cell_type": "code",
      "metadata": {
        "colab": {
          "base_uri": "https://localhost:8080/"
        },
        "id": "2bsfWR6g_XQk",
        "outputId": "18945b36-9e6f-44b6-9373-aa064664238e"
      },
      "source": [
        "print(type(2))"
      ],
      "execution_count": 10,
      "outputs": [
        {
          "output_type": "stream",
          "text": [
            "<class 'int'>\n"
          ],
          "name": "stdout"
        }
      ]
    },
    {
      "cell_type": "code",
      "metadata": {
        "colab": {
          "base_uri": "https://localhost:8080/"
        },
        "id": "JdsK1Owa_iik",
        "outputId": "b7266a45-1b79-47ee-eb6d-8f7d4ecc6917"
      },
      "source": [
        "print(type(4.5))"
      ],
      "execution_count": 12,
      "outputs": [
        {
          "output_type": "stream",
          "text": [
            "<class 'float'>\n"
          ],
          "name": "stdout"
        }
      ]
    },
    {
      "cell_type": "code",
      "metadata": {
        "colab": {
          "base_uri": "https://localhost:8080/"
        },
        "id": "V5dxCBjK_3Jd",
        "outputId": "a675be04-9faf-42e1-c270-a4a57f232206"
      },
      "source": [
        "type(8.0)\n"
      ],
      "execution_count": 15,
      "outputs": [
        {
          "output_type": "execute_result",
          "data": {
            "text/plain": [
              "float"
            ]
          },
          "metadata": {
            "tags": []
          },
          "execution_count": 15
        }
      ]
    },
    {
      "cell_type": "code",
      "metadata": {
        "colab": {
          "base_uri": "https://localhost:8080/"
        },
        "id": "tsUSSOVW_-qE",
        "outputId": "fd77d5f7-aa8f-48c8-c322-1e6780051034"
      },
      "source": [
        "type(8)"
      ],
      "execution_count": 16,
      "outputs": [
        {
          "output_type": "execute_result",
          "data": {
            "text/plain": [
              "int"
            ]
          },
          "metadata": {
            "tags": []
          },
          "execution_count": 16
        }
      ]
    },
    {
      "cell_type": "code",
      "metadata": {
        "colab": {
          "base_uri": "https://localhost:8080/"
        },
        "id": "_u3-OY0pABiN",
        "outputId": "2b55f064-70df-4d62-e9c9-97dcf7225706"
      },
      "source": [
        "type(\"True\")"
      ],
      "execution_count": 17,
      "outputs": [
        {
          "output_type": "execute_result",
          "data": {
            "text/plain": [
              "str"
            ]
          },
          "metadata": {
            "tags": []
          },
          "execution_count": 17
        }
      ]
    },
    {
      "cell_type": "code",
      "metadata": {
        "colab": {
          "base_uri": "https://localhost:8080/"
        },
        "id": "TmLAf8L0AEf1",
        "outputId": "994fd824-b93d-4f52-d96f-73411b5f4b2c"
      },
      "source": [
        "type(True)"
      ],
      "execution_count": 18,
      "outputs": [
        {
          "output_type": "execute_result",
          "data": {
            "text/plain": [
              "bool"
            ]
          },
          "metadata": {
            "tags": []
          },
          "execution_count": 18
        }
      ]
    },
    {
      "cell_type": "markdown",
      "metadata": {
        "id": "pXDhjTRhAK6a"
      },
      "source": [
        "2. Variables (Các biến)"
      ]
    },
    {
      "cell_type": "code",
      "metadata": {
        "colab": {
          "base_uri": "https://localhost:8080/"
        },
        "id": "eTaprjjxAxET",
        "outputId": "b4d0ef32-6636-4bde-dd6b-9c5d260801fe"
      },
      "source": [
        "first_name = \"Lam\"\n",
        "print(first_name)"
      ],
      "execution_count": 21,
      "outputs": [
        {
          "output_type": "stream",
          "text": [
            "Lam\n"
          ],
          "name": "stdout"
        }
      ]
    },
    {
      "cell_type": "code",
      "metadata": {
        "colab": {
          "base_uri": "https://localhost:8080/"
        },
        "id": "CYfnaFSgBuYE",
        "outputId": "dd7ba46d-464b-4b6f-c2b4-c51f75101e0c"
      },
      "source": [
        "#Integer and Float Variables\n",
        "num1 = 5\n",
        "num2 = 7.5\n",
        "print(num1, num2)\n",
        "print(num2, num1)"
      ],
      "execution_count": 8,
      "outputs": [
        {
          "output_type": "stream",
          "text": [
            "5 7.5\n",
            "7.5 5\n"
          ],
          "name": "stdout"
        }
      ]
    },
    {
      "cell_type": "code",
      "metadata": {
        "id": "_YUum07YROLQ"
      },
      "source": [
        "#Boolean Variables"
      ],
      "execution_count": null,
      "outputs": []
    },
    {
      "cell_type": "code",
      "metadata": {
        "colab": {
          "base_uri": "https://localhost:8080/"
        },
        "id": "lSaBCVT0RULw",
        "outputId": "3fa5a6c3-6ccd-4df8-fcd2-22fe59926f6b"
      },
      "source": [
        "switch = True\n",
        "print(switch)"
      ],
      "execution_count": 1,
      "outputs": [
        {
          "output_type": "stream",
          "text": [
            "True\n"
          ],
          "name": "stdout"
        }
      ]
    },
    {
      "cell_type": "code",
      "metadata": {
        "colab": {
          "base_uri": "https://localhost:8080/"
        },
        "id": "6uSvro5aRpct",
        "outputId": "f5eb654d-8a4d-4a80-9058-e86818d3d5ed"
      },
      "source": [
        "#String Variables\n",
        "name = \"Lam\"\n",
        "age = 18\n",
        "print(name, age)"
      ],
      "execution_count": 5,
      "outputs": [
        {
          "output_type": "stream",
          "text": [
            "Lam 18\n"
          ],
          "name": "stdout"
        }
      ]
    },
    {
      "cell_type": "code",
      "metadata": {
        "colab": {
          "base_uri": "https://localhost:8080/"
        },
        "id": "jo-IB60PSMOW",
        "outputId": "76797545-cbd4-4fe2-e4e5-403afd63f3e3"
      },
      "source": [
        "#Using Multiple Variables (Cách sử dụng nhiều biến)\n",
        "x = 1\n",
        "y = 2\n",
        "result = x + y\n",
        "print(result )\n"
      ],
      "execution_count": 15,
      "outputs": [
        {
          "output_type": "stream",
          "text": [
            "3\n"
          ],
          "name": "stdout"
        }
      ]
    },
    {
      "cell_type": "code",
      "metadata": {
        "colab": {
          "base_uri": "https://localhost:8080/"
        },
        "id": "iE1dZYpVUd3d",
        "outputId": "03ba0495-b253-4fe4-d574-785ab6859017"
      },
      "source": [
        "#Using Operators on Numerical Variables\n",
        "result += 1 #same result + result = 1\n",
        "print(result)"
      ],
      "execution_count": 42,
      "outputs": [
        {
          "output_type": "stream",
          "text": [
            "18\n"
          ],
          "name": "stdout"
        }
      ]
    },
    {
      "cell_type": "code",
      "metadata": {
        "id": "m2l4ust3WSv6"
      },
      "source": [
        "result *=1\n",
        "print(result)"
      ],
      "execution_count": null,
      "outputs": []
    },
    {
      "cell_type": "code",
      "metadata": {
        "colab": {
          "base_uri": "https://localhost:8080/"
        },
        "id": "Fxm3OPy1Y2kz",
        "outputId": "c59820fb-301a-414d-bfab-d8ae7fc889ea"
      },
      "source": [
        "#Overwriting Previously Created Variables (Ghi đè các biến đã tạo trước đây)\n",
        "name = 'Lam'\n",
        "print(name)\n",
        "name = 'Chicken'\n",
        "print(name)\n"
      ],
      "execution_count": 44,
      "outputs": [
        {
          "output_type": "stream",
          "text": [
            "Lam\n",
            "Chicken\n"
          ],
          "name": "stdout"
        }
      ]
    },
    {
      "cell_type": "code",
      "metadata": {
        "colab": {
          "base_uri": "https://localhost:8080/"
        },
        "id": "8zWuWH6JZemZ",
        "outputId": "a857295c-a905-4ca1-e832-55e8ab324682"
      },
      "source": [
        "#Whitespace (Khoảng trắng)\n",
        "name = \"Nguyen Thanh Lam\"\n",
        "print(name)"
      ],
      "execution_count": 47,
      "outputs": [
        {
          "output_type": "stream",
          "text": [
            "Nguyen Thanh Lam\n"
          ],
          "name": "stdout"
        }
      ]
    },
    {
      "cell_type": "markdown",
      "metadata": {
        "id": "746tZclDaKvw"
      },
      "source": [
        "2_EXERCISES"
      ]
    },
    {
      "cell_type": "code",
      "metadata": {
        "colab": {
          "base_uri": "https://localhost:8080/"
        },
        "id": "rCHVhIuEaTgJ",
        "outputId": "671c64b8-f947-4424-99a2-bbb4f5721b15"
      },
      "source": [
        "#1\n",
        "x = 3\n",
        "y = 10\n",
        "print(x*y)"
      ],
      "execution_count": 49,
      "outputs": [
        {
          "output_type": "stream",
          "text": [
            "30\n"
          ],
          "name": "stdout"
        }
      ]
    },
    {
      "cell_type": "code",
      "metadata": {
        "colab": {
          "base_uri": "https://localhost:8080/"
        },
        "id": "XASAY48VbDA3",
        "outputId": "bbca85d4-f18b-44a1-ac19-f3dac3b04957"
      },
      "source": [
        "#2\n",
        "cd = 245.54\n",
        "cr = 13.66\n",
        "print('Diện tích ','=',cd*cr) "
      ],
      "execution_count": 50,
      "outputs": [
        {
          "output_type": "stream",
          "text": [
            "Diện tích  = 3354.0764\n"
          ],
          "name": "stdout"
        }
      ]
    },
    {
      "cell_type": "markdown",
      "metadata": {
        "id": "lWRZOkj2busv"
      },
      "source": [
        "3. Working with Strings"
      ]
    },
    {
      "cell_type": "code",
      "metadata": {
        "colab": {
          "base_uri": "https://localhost:8080/"
        },
        "id": "-7XSYyCVb792",
        "outputId": "f43d9719-6818-4761-d88c-30190d51605a"
      },
      "source": [
        "#String Concatenation (Kết hợp chuỗi)\n",
        "name = \"Nguyễn\" + \" \" + \"Thanh\" + \" \" + \"Lâm\"\n",
        "print(name)\n",
        "first_name = \"Lâm\"\n",
        "last_name  = \"Chicken\"\n",
        "full_name  = first_name + \" \" + last_name\n",
        "print(full_name)"
      ],
      "execution_count": 63,
      "outputs": [
        {
          "output_type": "stream",
          "text": [
            "Nguyễn Thanh Lâm\n",
            "Lâm Chicken\n"
          ],
          "name": "stdout"
        }
      ]
    },
    {
      "cell_type": "code",
      "metadata": {
        "colab": {
          "base_uri": "https://localhost:8080/"
        },
        "id": "lBpIYhF-dZjD",
        "outputId": "09a8ada7-b9a0-4ebf-eca3-e0c301bc0fac"
      },
      "source": [
        "#Formatting Strings (Định dạng chuỗi)\n",
        "name = \"Lam\"\n",
        "print( \"Hello {}\".format(name))\n",
        "print( \"Hello {}, you are {} years old\".format(name,19))\n",
        "\n"
      ],
      "execution_count": 59,
      "outputs": [
        {
          "output_type": "stream",
          "text": [
            "Hello Lam\n",
            "Hello Lam, you are 19 years old\n"
          ],
          "name": "stdout"
        }
      ]
    },
    {
      "cell_type": "code",
      "metadata": {
        "colab": {
          "base_uri": "https://localhost:8080/"
        },
        "id": "ZP01VXV-gL8A",
        "outputId": "df0aa0f4-ea02-4513-aee2-f9b43b69e28a"
      },
      "source": [
        "#fString\n",
        "name = \"Lam\"\n",
        "print(f\"Hello {name} \")\n",
        "print(f\"Hello {name}, you are {19} years old\")"
      ],
      "execution_count": 61,
      "outputs": [
        {
          "output_type": "stream",
          "text": [
            "Hello Lam \n",
            "Hello Lam, you are 19 years old\n"
          ],
          "name": "stdout"
        }
      ]
    },
    {
      "cell_type": "code",
      "metadata": {
        "colab": {
          "base_uri": "https://localhost:8080/"
        },
        "id": "JmeRywthhIh-",
        "outputId": "9cd19fb8-3316-4371-9f7c-843b68ee973b"
      },
      "source": [
        "#Formatting in Python 2 (Định dạng trong Python 2)\n",
        "name = \"Lam\"\n",
        "print('Hello, %s' %name)\n",
        "print('Hello, %s %s' %(first_name,last_name))"
      ],
      "execution_count": 67,
      "outputs": [
        {
          "output_type": "stream",
          "text": [
            "Hello, Lam\n",
            "Hello, Lâm Chicken\n"
          ],
          "name": "stdout"
        }
      ]
    },
    {
      "cell_type": "code",
      "metadata": {
        "colab": {
          "base_uri": "https://localhost:8080/"
        },
        "id": "5c6ABy82jUUE",
        "outputId": "3a4b2279-19e8-4d97-f2e8-965a725d4a56"
      },
      "source": [
        "#String Index (Chỉ số chuỗi)\n",
        "word = \"Hello\"\n",
        "print(word[ 0 ])\n",
        "print(word[1])\n",
        "print(word[-1])\n"
      ],
      "execution_count": 70,
      "outputs": [
        {
          "output_type": "stream",
          "text": [
            "H\n",
            "e\n",
            "o\n"
          ],
          "name": "stdout"
        }
      ]
    },
    {
      "cell_type": "code",
      "metadata": {
        "colab": {
          "base_uri": "https://localhost:8080/"
        },
        "id": "eCWCWVy7kWeT",
        "outputId": "ef72e93e-6ba6-4e82-8c68-448e9746695c"
      },
      "source": [
        "#String Slicing\n",
        "print(word[0:4:2])"
      ],
      "execution_count": 79,
      "outputs": [
        {
          "output_type": "stream",
          "text": [
            "Hl\n"
          ],
          "name": "stdout"
        }
      ]
    },
    {
      "cell_type": "markdown",
      "metadata": {
        "id": "eAYX1457k4Lr"
      },
      "source": [
        "3_EXERCISES "
      ]
    },
    {
      "cell_type": "code",
      "metadata": {
        "colab": {
          "base_uri": "https://localhost:8080/"
        },
        "id": "sR2LHU11lI1c",
        "outputId": "c629bdf1-c925-45ae-9335-bc79671b1670"
      },
      "source": [
        "#1\n",
        "x = False\n",
        "y = \"Jhon\"\n",
        "print(f'{23} {4.5} {x} {y}')"
      ],
      "execution_count": 80,
      "outputs": [
        {
          "output_type": "stream",
          "text": [
            "23 4.5 False Jhon\n"
          ],
          "name": "stdout"
        }
      ]
    },
    {
      "cell_type": "code",
      "metadata": {
        "colab": {
          "base_uri": "https://localhost:8080/"
        },
        "id": "OrdZIsx7lkUq",
        "outputId": "c47eefa8-e8b4-440a-f5b2-e6d8f6e517c4"
      },
      "source": [
        "#2\n",
        "name = \"Lam\"\n",
        "sport = \"Basketball\"\n",
        "print(\"{}'s favorite sports is {}\".format(name,sport))\n",
        "print(f\"{name}'s favorite sports is {sport}\")\n"
      ],
      "execution_count": 83,
      "outputs": [
        {
          "output_type": "stream",
          "text": [
            "Lam's favorite sports is Basketball\n",
            "Lam's favorite sports is Basketball\n"
          ],
          "name": "stdout"
        }
      ]
    }
  ]
}